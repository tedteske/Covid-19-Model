{
  "nbformat": 4,
  "nbformat_minor": 0,
  "metadata": {
    "colab": {
      "name": "covid.ipynb",
      "provenance": [],
      "collapsed_sections": [
        "eyWxlhOvLzdR",
        "IAUv_MFDRBiF",
        "AOEDb3cjQIyz",
        "eo49Mx0TQcPo",
        "sAoThb_vQMGp",
        "_ncn2jGE2r7T"
      ],
      "include_colab_link": true
    },
    "kernelspec": {
      "name": "python3",
      "display_name": "Python 3"
    }
  },
  "cells": [
    {
      "cell_type": "markdown",
      "metadata": {
        "id": "view-in-github",
        "colab_type": "text"
      },
      "source": [
        "<a href=\"https://colab.research.google.com/github/tedteske/Covid-19-Model/blob/master/covid.ipynb\" target=\"_parent\"><img src=\"https://colab.research.google.com/assets/colab-badge.svg\" alt=\"Open In Colab\"/></a>"
      ]
    },
    {
      "cell_type": "markdown",
      "metadata": {
        "id": "eyWxlhOvLzdR",
        "colab_type": "text"
      },
      "source": [
        "## Functions and Load Data"
      ]
    },
    {
      "cell_type": "code",
      "metadata": {
        "id": "YB0P6CegLZFU",
        "colab_type": "code",
        "colab": {
          "base_uri": "https://localhost:8080/",
          "height": 50
        },
        "outputId": "17ae647b-5bf0-485e-9952-47e21c5e2682"
      },
      "source": [
        "import pandas as pd\n",
        "import math\n",
        "from datetime import date\n",
        "import numpy as np\n",
        "import seaborn as sns \n",
        "import matplotlib.pyplot as plt\n",
        "\n",
        "pd.options.mode.chained_assignment = None  # default='warn'\n",
        "sns.set(style='darkgrid') \n",
        "plt.rcParams[\"font.family\"] = \"serif\"\n",
        "plt.rcParams[\"figure.figsize\"] = [13, 13/1.6]\n",
        "\n",
        "\n",
        "def load_df(covid_data, pop_data, case_start=10, contagious_days=14):\n",
        "    '''\n",
        "    Loads covid_data into new dataframe, merges population and continent fields \n",
        "    from pop_data, and passes to munge_data() and order_columns() for\n",
        "    further processing. This is the first function called after importing\n",
        "    CSV files.\n",
        "\n",
        "    Parameters\n",
        "    ----------\n",
        "    covid_data (pd.DataFrame) : raw data from Covid-19 CSV file [1] or similar\n",
        "    pop_data (pd.DataFrame) : raw data from population CSV file [2] or similar\n",
        "    case_start (int) : minimum total cases, below which records are not loaded \n",
        "    contagious_days (int) : number of days infected person assumed contagious      \n",
        "\n",
        "    Returns\n",
        "    -------\n",
        "    pd.DataFrame\n",
        "    \n",
        "    Notes\n",
        "    ----\n",
        "    [1] https://covid.ourworldindata.org/data/ecdc/locations.csv\n",
        "    [2] https://covid.ourworldindata.org/data/ecdc/locations.csv\n",
        "    '''\n",
        "    try:\n",
        "        population_cols = ['location', 'continent', 'population']\n",
        "        latest_pops = pop_data[population_cols].groupby('location').max()\n",
        "        covid_data = covid_data.merge(latest_pops, \n",
        "                                      left_on='location', right_on='location')\n",
        "    except:\n",
        "        population_cols = ['location', 'population']\n",
        "        latest_pops = pop_data[population_cols].groupby('location').max()\n",
        "        covid_data = covid_data.merge(latest_pops, \n",
        "                                      left_on='location', right_on='location')\n",
        "        covid_data['continent'] = 'NA'\n",
        "    covid_data.rename(columns={'continent': 'region'}, inplace=True) \n",
        "    df = munge_data(covid_data, case_start, contagious_days)\n",
        "    df = order_columns(df)\n",
        "    return df\n",
        "\n",
        "\n",
        "def munge_data(df, case_start, contagious_days):\n",
        "    '''\n",
        "    Indexes dataframe by location and date, and creates all calculated fields.\n",
        "\n",
        "    Parameters\n",
        "    ----------\n",
        "    df (pd.DataFrame) : dataframe to be processed\n",
        "    case_start (int) : minimum total cases, below which records are not loaded \n",
        "    contagious_days (int) : number of days infected person assumed contagious      \n",
        "\n",
        "    Returns\n",
        "    -------\n",
        "    pd.DataFrame\n",
        "    '''\n",
        "\n",
        "    df = df.copy()\n",
        "    df['date'] = pd.to_datetime(df['date'])\n",
        "    df['contagious_days'] = contagious_days\n",
        "\n",
        "    df.set_index(['location', 'date'], inplace=True)\n",
        "    df['day'] = df.index.get_level_values('date').day_name().str.slice(stop=3)\n",
        "    df.index.names = ['location', None]\n",
        "    \n",
        "    df['source'] = 'actual'\n",
        "    df['cases_pct_of_pop'] = df['total_cases']/df['population'] * 100       \n",
        "    \n",
        "    df['contagious'] = (df['total_cases'] \n",
        "                        - df['total_cases'].shift(contagious_days))\n",
        "    df.loc[df['contagious'] < 0, 'contagious'] = df.loc[df['contagious'] < 0, \n",
        "                                                        'total_cases']\n",
        "    \n",
        "    df['repro_number'] = df['new_cases']/df['contagious'] * contagious_days\n",
        "    \n",
        "    df['growth'] = np.log(1 + df['total_cases'].pct_change())\n",
        "    df['days_to_dbl'] = np.log(2)/df['growth']\n",
        "    df.loc[df.groupby('location').head(1).index,\n",
        "           ['growth', 'days_to_dbl']] = np.NaN\n",
        "    \n",
        "    df['fatality'] = df['total_deaths']/df['total_cases']\n",
        "    \n",
        "    return df\n",
        "\n",
        "\n",
        "def order_columns(df):\n",
        "    '''\n",
        "    Re-orders dataframe columns after each load and forecast.\n",
        "    '''\n",
        "\n",
        "    column_names = ['day', 'new_cases',  'total_cases', 'cases_pct_of_pop', \n",
        "                    'new_deaths', 'total_deaths', 'fatality', \n",
        "                    'contagious', 'repro_number', 'growth', \n",
        "                    'days_to_dbl', 'source', 'population', 'region']\n",
        "    return df.reindex(columns=column_names)\n",
        "   \n",
        "\n",
        "def new_repro(days, last, move=[]):\n",
        "    '''\n",
        "    Forecasts reproduction numbers.\n",
        "\n",
        "    Parameters\n",
        "    ----------\n",
        "    days (int) : number of days forecasted\n",
        "    last (float) : starting reproduction number \n",
        "    move[0] (float) : target reproduction number \n",
        "    move[1] (float) : daily rate of change from last to target       \n",
        "    move[2] (float) : default 0; x_0, the x value of the sigmoid's midpoint [1]\n",
        "    move[3] (float): default 1; k, the logistic growth rate \n",
        "                    or steepness of the curve [1]\n",
        "\n",
        "    Returns\n",
        "    -------\n",
        "    pd.Series: series of forecast reproduction numbers\n",
        "    \n",
        "    Notes\n",
        "    -----\n",
        "    [1] https://en.wikipedia.org/wiki/Logistic_function\n",
        "    [2] https://en.wikipedia.org/wiki/Sigmoid_function\n",
        "    [3] https://ibguides.com/biology/notes/populations/\n",
        "    '''\n",
        "    \n",
        "    if isinstance(move, (int, float)):\n",
        "        move = [move]\n",
        "\n",
        "    move_full_spec = [last, None, 0, 1]\n",
        "    move_full_spec[:len(move)] = move\n",
        "    target, rate, offset, k = move_full_spec\n",
        "    \n",
        "    days_motion = round(1/rate) if rate else days\n",
        "    L = target - last\n",
        "\n",
        "    y = []\n",
        "    for x in np.linspace(-6, 6, days_motion):\n",
        "        fx = L / (1 + math.e**(-k * (x - offset)))\n",
        "        fx += last\n",
        "        y.append(fx)\n",
        "    \n",
        "    days_flat = max(days - days_motion, 0)\n",
        "    flat_values = np.ones(days_flat) * y[-1]\n",
        "    y = y + list(flat_values)\n",
        "    return pd.Series(y)\n",
        "\n",
        "\n",
        "def forecast(df, days, repro_move=[],\n",
        "             contagious_days=14, replace=True):\n",
        "    '''\n",
        "    Forecasts reproduction numbers.\n",
        "\n",
        "    Parameters\n",
        "    ----------\n",
        "    df (pd.DataFrame) : dataframe of inputs to forecast\n",
        "    days (int) : number of days forecasted\n",
        "    last (float) : starting reproduction number \n",
        "    repro_move (list of floats) : parameters for reproduction number motion\n",
        "        see new_repro() docstring for details on list items\n",
        "    contagious_days (int) : number of days infected person assumed contagious\n",
        "    replace (bool) : if True, replace existing forecast records\n",
        "\n",
        "    Returns\n",
        "    -------\n",
        "    pd.DataFrame: dataframe with appended forecast records\n",
        "    '''\n",
        "\n",
        "    if replace:\n",
        "        df = df[df['source'] != 'forecast']\n",
        "    \n",
        "    if days > 0:        \n",
        "        \n",
        "        last_repro = df.iloc[-1]['repro_number']\n",
        "        new_repros = new_repro(days, last_repro, repro_move)\n",
        "\n",
        "        for i in range(days):\n",
        "\n",
        "            last = df.iloc[-1]\n",
        "            repro_number_ = new_repros[i]  \n",
        "            \n",
        "            pop_adjustment = 1 - last['cases_pct_of_pop']/100\n",
        "            trans_rate = last['repro_number']/contagious_days\n",
        "\n",
        "            new_cases_ = ((last['contagious'] + last['new_cases']) \n",
        "                          * trans_rate * pop_adjustment)\n",
        "            total_cases_ = last['total_cases'] + new_cases_\n",
        "            cases_pct_of_pop_ = total_cases_/last['population'] * 100\n",
        "            contagious_ = (total_cases_ \n",
        "                           - df.iloc[-contagious_days + 1]['total_cases'])\n",
        "                     \n",
        "            growth_ = np.log(total_cases_/last['total_cases'])\n",
        "            days_to_dbl_ = np.log(2)/growth_\n",
        "            total_deaths_ = total_cases_ * last['fatality']\n",
        "            new_deaths_ = total_deaths_ - last['total_deaths']\n",
        "\n",
        "            data = {'source': 'forecast',\n",
        "                    'new_cases': new_cases_,\n",
        "                    'total_cases': total_cases_,\n",
        "                    'cases_pct_of_pop': cases_pct_of_pop_,\n",
        "                    'repro_number': repro_number_,\n",
        "                    'contagious': contagious_,\n",
        "                    'growth': growth_,\n",
        "                    'days_to_dbl': days_to_dbl_,\n",
        "                    'new_deaths': new_deaths_,\n",
        "                    'total_deaths': total_deaths_,\n",
        "                    'fatality': last['fatality'],\n",
        "                    'population': last['population'],\n",
        "                    'region': last['region']}\n",
        "            \n",
        "            next_date = df.index[-1] + pd.Timedelta(days=1)\n",
        "            df = df.append(pd.DataFrame(data, index=[next_date]))\n",
        "        \n",
        "        df['day'] = df.index.day_name().str.slice(stop=3)\n",
        "        df = order_columns(df)\n",
        "    return df\n",
        "\n",
        "\n",
        "def plot_timeline(df, title=None, date_freq='MS',\n",
        "                  left=[],\n",
        "                  right=None,\n",
        "                  left_ylabel=None,\n",
        "                  right_ylabel=None,\n",
        "                  left_yscale=1000):\n",
        "    '''\n",
        "    Lineplots several user-defined time series.\n",
        "\n",
        "    Parameters\n",
        "    ----------\n",
        "    df (pd.DataFrame) : dataframe with columns to be plotted\n",
        "    title (str) : plot title\n",
        "    date_freq (str) : x-axis tick freqency, to prevent cluttering \n",
        "        'MS' for month start\n",
        "        'W' for weekly\n",
        "        'Q' for quarterly\n",
        "    left (list of str) : names of columns to be plotted using left axis\n",
        "    right (str) : name of column to be plotted using right axis\n",
        "    left_ylabel (str) : left axis label\n",
        "    right_ylabel (str) : right axis label\n",
        "    left_yscale (int) : scale of left axis tick labels\n",
        "    '''\n",
        "    \n",
        "    data = df.copy()\n",
        "    \n",
        "    fig, ax = plt.subplots()\n",
        "    fig_width = 20\n",
        "    fig.figsize = (fig_width, fig_width/1.6)\n",
        "   \n",
        "    for column in left:\n",
        "        sns.lineplot(x=data.index, y=column, style='source', data=data, \n",
        "                     legend=False, ax=ax)\n",
        "    b = min(len(ax.lines)-1, 2)\n",
        "    \n",
        "    # configure right axis\n",
        "    if right:\n",
        "        ax2 = ax.twinx()\n",
        "        sns.lineplot(x=data.index, y=right, style='source', data=data,\n",
        "                     legend=False, ax=ax2, color='g')\n",
        "        \n",
        "        yticks = np.arange(data[right].min(), data[right].max(), 0.5)\n",
        "        yticks = (yticks * 2).round()/2  # limits yticks to multiples of 0.5\n",
        "        \n",
        "        ax2.set_yticks(yticks)\n",
        "        if right_ylabel:        \n",
        "            ax2.set_ylabel(right_ylabel)\n",
        "        else:\n",
        "            ax2.set_ylabel(right)\n",
        "        handles = [ax.lines[a] for a in [0, b]] + [ax2.lines[0]]\n",
        "        labels = left + [right]\n",
        "    \n",
        "    else:\n",
        "        handles = [ax.lines[a] for a in [0, b]] \n",
        "        labels = left \n",
        "   \n",
        "    ax.legend(handles, labels, loc=0)\n",
        "\n",
        "    # configure xticks\n",
        "    xticks = pd.date_range(start=data.index.min(), \n",
        "                           end=data.index.max(),\n",
        "                           freq=date_freq)\n",
        "    ax.set_xticks(xticks)\n",
        "\n",
        "    # configure ylabels, yticks\n",
        "    if left_ylabel:\n",
        "        ax.set_ylabel(left_ylabel) \n",
        "    else:\n",
        "        ax.set_ylabel(str(left) + ' (thousands)')\n",
        "    ax.set_yticklabels(ax.get_yticks()/left_yscale)\n",
        "\n",
        "    plt.title(title)\n",
        "    plt.show()\n",
        "\n",
        "\n",
        "def plot_cdr(df, title=None, date_freq='MS',\n",
        "             left=['total_deaths', 'new_cases'],\n",
        "             right='repro_number',\n",
        "             left_ylabel='cases, deaths (thousands)',\n",
        "             right_ylabel='reproduction number',\n",
        "             left_yscale=1000):\n",
        "    '''\n",
        "    Lineplots time series of Total Deaths, New Cases, and Reproduction Numbers,\n",
        "    appropriately scaled, using plot_timeline().\n",
        "\n",
        "    Parameters\n",
        "    ----------\n",
        "    df (pd.DataFrame) : dataframe with columns to be plotted\n",
        "    title (str) : plot title\n",
        "    date_freq (str) : x-axis tick freqency, to prevent cluttering \n",
        "        'MS' for month start\n",
        "        'W' for weekly\n",
        "        'Q' for quarterly\n",
        "    left (list of str) : names of columns to be plotted using left axis\n",
        "    right (str) : name of column to be plotted using right axis\n",
        "    left_ylabel (str) : left axis label\n",
        "    right_ylabel (str) : right axis label\n",
        "    left_yscale (int) : scale of left axis tick labels\n",
        "    '''\n",
        "    \n",
        "    plot_timeline(df, title=title, date_freq=date_freq,\n",
        "                  left=left,\n",
        "                  right=right,\n",
        "                  left_ylabel=left_ylabel,\n",
        "                  right_ylabel=right_ylabel,\n",
        "                  left_yscale=left_yscale)\n",
        "\n",
        "\n",
        "def plot_growth(df, locations, column='total_cases', title=None, \n",
        "                min_count=10, logy=True):\n",
        "    '''\n",
        "    Lineplots several user-defined time series.\n",
        "\n",
        "    Parameters\n",
        "    ----------\n",
        "    df (pd.DataFrame) : dataframe with columns to be plotted\n",
        "    locations (list of str) : names of locations to be plotted\n",
        "    column (str) : name of column to be plotted for each location\n",
        "    title (str) : plot title\n",
        "    min_count (int) : starting value for the plotted columns\n",
        "    logy (bool) : if True, configure y-axis as a log(10) scale\n",
        "    '''\n",
        "    \n",
        "    data = df.copy()\n",
        "    data = data[data[column] >= min_count]\n",
        "\n",
        "    data['day_num'] = data.groupby(level=0).cumcount()\n",
        "    data.loc[data['day_num'] == 0, column] = min_count\n",
        "    data.reset_index(inplace=True)\n",
        "\n",
        "    pivoted = data.pivot(index='day_num', columns='location', values=column)\n",
        "    pivoted.index.name = \"days since \" + str(min_count) + \" \" + column\n",
        "\n",
        "    pivoted[locations].plot(logy=logy, title=title or column)"
      ],
      "execution_count": 1,
      "outputs": [
        {
          "output_type": "stream",
          "text": [
            "/usr/local/lib/python3.6/dist-packages/statsmodels/tools/_testing.py:19: FutureWarning: pandas.util.testing is deprecated. Use the functions in the public API at pandas.testing instead.\n",
            "  import pandas.util.testing as tm\n"
          ],
          "name": "stderr"
        }
      ]
    },
    {
      "cell_type": "markdown",
      "metadata": {
        "id": "_TOgI06vHS8e",
        "colab_type": "text"
      },
      "source": [
        "Load country data"
      ]
    },
    {
      "cell_type": "code",
      "metadata": {
        "id": "JSSDjt_TPBoO",
        "colab_type": "code",
        "outputId": "d919e961-56e5-4e56-908c-4d3442b98b58",
        "colab": {
          "base_uri": "https://localhost:8080/",
          "height": 50
        }
      },
      "source": [
        "covid_data = pd.read_csv('https://covid.ourworldindata.org/data/ecdc/full_data.csv')\n",
        "pop_data = pd.read_csv('https://covid.ourworldindata.org/data/ecdc/locations.csv')\n",
        "df = load_df(covid_data, pop_data, case_start=1, contagious_days=14)"
      ],
      "execution_count": 2,
      "outputs": [
        {
          "output_type": "stream",
          "text": [
            "/usr/local/lib/python3.6/dist-packages/pandas/core/series.py:679: RuntimeWarning: divide by zero encountered in log\n",
            "  result = getattr(ufunc, method)(*inputs, **kwargs)\n"
          ],
          "name": "stderr"
        }
      ]
    },
    {
      "cell_type": "markdown",
      "metadata": {
        "id": "VkMq7gYSHY3E",
        "colab_type": "text"
      },
      "source": [
        "Load U.S. state-level data"
      ]
    },
    {
      "cell_type": "code",
      "metadata": {
        "id": "j2MnKtQsHQAw",
        "colab_type": "code",
        "colab": {}
      },
      "source": [
        "#https://github.com/nytimes/covid-19-data\n",
        "covid_state_data =  pd.read_csv('https://raw.githubusercontent.com/nytimes/'\n",
        "                                'covid-19-data/master/us-states.csv')\n",
        "\n",
        "covid_state_data.rename({'state':'location', 'cases':'total_cases', \n",
        "                         'deaths':'total_deaths'}, axis='columns', inplace=True) \n",
        "covid_state_data.drop('fips', axis='columns', inplace=True) \n",
        "\n",
        "covid_state_data.set_index(['location','date'], inplace=True)\n",
        "covid_state_data.sort_index(inplace=True)\n",
        "covid_state_data['new_cases'] = np.nan \n",
        "covid_state_data['new_deaths'] = np.nan \n",
        "\n",
        "for idx in covid_state_data.index.levels[0]:\n",
        "    covid_state_data.new_cases[idx] = covid_state_data.total_cases[idx].diff()\n",
        "    covid_state_data.new_deaths[idx] = covid_state_data.total_deaths[idx].diff()\n",
        "\n",
        "covid_state_data.reset_index(inplace=True)\n",
        "\n",
        "#https://www.census.gov/data/tables/time-series/demo/popest/2010s-state-total.html\n",
        "pop_state_data = pd.read_csv('http://www2.census.gov/programs-surveys/popest/'\n",
        "                            'datasets/2010-2019/national/totals/'\n",
        "                            'nst-est2019-popchg2010_2019.csv')\n",
        "pop_state_data = pop_state_data[['NAME', 'POPESTIMATE2019']]\n",
        "\n",
        "pop_state_data.rename({'NAME':'location', 'POPESTIMATE2019':'population'}, \n",
        "                      axis='columns', inplace=True) \n",
        "\n",
        "df_states = load_df(covid_state_data, pop_state_data,  \n",
        "                    case_start=10, contagious_days=14)"
      ],
      "execution_count": 0,
      "outputs": []
    },
    {
      "cell_type": "markdown",
      "metadata": {
        "id": "IAUv_MFDRBiF",
        "colab_type": "text"
      },
      "source": [
        "## United States"
      ]
    },
    {
      "cell_type": "markdown",
      "metadata": {
        "id": "MpijcCiF3FcO",
        "colab_type": "text"
      },
      "source": [
        "Where we are today:"
      ]
    },
    {
      "cell_type": "code",
      "metadata": {
        "id": "xxbh1CnKeLri",
        "colab_type": "code",
        "outputId": "b9ce873e-0d82-410e-aa20-c9711385346f",
        "colab": {
          "base_uri": "https://localhost:8080/",
          "height": 248
        }
      },
      "source": [
        "US_Cov = df[df['total_cases']>100].loc['United States']\n",
        "US_Cov[US_Cov['source']=='actual'].tail(7)"
      ],
      "execution_count": 4,
      "outputs": [
        {
          "output_type": "execute_result",
          "data": {
            "text/html": [
              "<div>\n",
              "<style scoped>\n",
              "    .dataframe tbody tr th:only-of-type {\n",
              "        vertical-align: middle;\n",
              "    }\n",
              "\n",
              "    .dataframe tbody tr th {\n",
              "        vertical-align: top;\n",
              "    }\n",
              "\n",
              "    .dataframe thead th {\n",
              "        text-align: right;\n",
              "    }\n",
              "</style>\n",
              "<table border=\"1\" class=\"dataframe\">\n",
              "  <thead>\n",
              "    <tr style=\"text-align: right;\">\n",
              "      <th></th>\n",
              "      <th>day</th>\n",
              "      <th>new_cases</th>\n",
              "      <th>total_cases</th>\n",
              "      <th>cases_pct_of_pop</th>\n",
              "      <th>new_deaths</th>\n",
              "      <th>total_deaths</th>\n",
              "      <th>fatality</th>\n",
              "      <th>contagious</th>\n",
              "      <th>repro_number</th>\n",
              "      <th>growth</th>\n",
              "      <th>days_to_dbl</th>\n",
              "      <th>source</th>\n",
              "      <th>population</th>\n",
              "      <th>region</th>\n",
              "    </tr>\n",
              "  </thead>\n",
              "  <tbody>\n",
              "    <tr>\n",
              "      <th>2020-04-10</th>\n",
              "      <td>Fri</td>\n",
              "      <td>33901</td>\n",
              "      <td>466033</td>\n",
              "      <td>0.140794</td>\n",
              "      <td>1873</td>\n",
              "      <td>16690</td>\n",
              "      <td>0.035813</td>\n",
              "      <td>380042.0</td>\n",
              "      <td>1.248846</td>\n",
              "      <td>0.075525</td>\n",
              "      <td>9.177676</td>\n",
              "      <td>actual</td>\n",
              "      <td>331002647.0</td>\n",
              "      <td>North America</td>\n",
              "    </tr>\n",
              "    <tr>\n",
              "      <th>2020-04-11</th>\n",
              "      <td>Sat</td>\n",
              "      <td>35527</td>\n",
              "      <td>501560</td>\n",
              "      <td>0.151527</td>\n",
              "      <td>2087</td>\n",
              "      <td>18777</td>\n",
              "      <td>0.037437</td>\n",
              "      <td>396874.0</td>\n",
              "      <td>1.253239</td>\n",
              "      <td>0.073467</td>\n",
              "      <td>9.434836</td>\n",
              "      <td>actual</td>\n",
              "      <td>331002647.0</td>\n",
              "      <td>North America</td>\n",
              "    </tr>\n",
              "    <tr>\n",
              "      <th>2020-04-12</th>\n",
              "      <td>Sun</td>\n",
              "      <td>28391</td>\n",
              "      <td>529951</td>\n",
              "      <td>0.160105</td>\n",
              "      <td>1831</td>\n",
              "      <td>20608</td>\n",
              "      <td>0.038887</td>\n",
              "      <td>405286.0</td>\n",
              "      <td>0.980725</td>\n",
              "      <td>0.055061</td>\n",
              "      <td>12.588644</td>\n",
              "      <td>actual</td>\n",
              "      <td>331002647.0</td>\n",
              "      <td>North America</td>\n",
              "    </tr>\n",
              "    <tr>\n",
              "      <th>2020-04-13</th>\n",
              "      <td>Mon</td>\n",
              "      <td>27620</td>\n",
              "      <td>557571</td>\n",
              "      <td>0.168449</td>\n",
              "      <td>1500</td>\n",
              "      <td>22108</td>\n",
              "      <td>0.039651</td>\n",
              "      <td>414546.0</td>\n",
              "      <td>0.932779</td>\n",
              "      <td>0.050805</td>\n",
              "      <td>13.643206</td>\n",
              "      <td>actual</td>\n",
              "      <td>331002647.0</td>\n",
              "      <td>North America</td>\n",
              "    </tr>\n",
              "    <tr>\n",
              "      <th>2020-04-14</th>\n",
              "      <td>Tue</td>\n",
              "      <td>25023</td>\n",
              "      <td>582594</td>\n",
              "      <td>0.176009</td>\n",
              "      <td>1541</td>\n",
              "      <td>23649</td>\n",
              "      <td>0.040593</td>\n",
              "      <td>417974.0</td>\n",
              "      <td>0.838143</td>\n",
              "      <td>0.043901</td>\n",
              "      <td>15.788979</td>\n",
              "      <td>actual</td>\n",
              "      <td>331002647.0</td>\n",
              "      <td>North America</td>\n",
              "    </tr>\n",
              "    <tr>\n",
              "      <th>2020-04-15</th>\n",
              "      <td>Wed</td>\n",
              "      <td>26922</td>\n",
              "      <td>609516</td>\n",
              "      <td>0.184142</td>\n",
              "      <td>2408</td>\n",
              "      <td>26057</td>\n",
              "      <td>0.042750</td>\n",
              "      <td>419898.0</td>\n",
              "      <td>0.897618</td>\n",
              "      <td>0.045175</td>\n",
              "      <td>15.343719</td>\n",
              "      <td>actual</td>\n",
              "      <td>331002647.0</td>\n",
              "      <td>North America</td>\n",
              "    </tr>\n",
              "    <tr>\n",
              "      <th>2020-04-16</th>\n",
              "      <td>Thu</td>\n",
              "      <td>30148</td>\n",
              "      <td>639664</td>\n",
              "      <td>0.193250</td>\n",
              "      <td>4928</td>\n",
              "      <td>30985</td>\n",
              "      <td>0.048439</td>\n",
              "      <td>422943.0</td>\n",
              "      <td>0.997941</td>\n",
              "      <td>0.048278</td>\n",
              "      <td>14.357461</td>\n",
              "      <td>actual</td>\n",
              "      <td>331002647.0</td>\n",
              "      <td>North America</td>\n",
              "    </tr>\n",
              "  </tbody>\n",
              "</table>\n",
              "</div>"
            ],
            "text/plain": [
              "            day  new_cases  total_cases  ...  source   population         region\n",
              "2020-04-10  Fri      33901       466033  ...  actual  331002647.0  North America\n",
              "2020-04-11  Sat      35527       501560  ...  actual  331002647.0  North America\n",
              "2020-04-12  Sun      28391       529951  ...  actual  331002647.0  North America\n",
              "2020-04-13  Mon      27620       557571  ...  actual  331002647.0  North America\n",
              "2020-04-14  Tue      25023       582594  ...  actual  331002647.0  North America\n",
              "2020-04-15  Wed      26922       609516  ...  actual  331002647.0  North America\n",
              "2020-04-16  Thu      30148       639664  ...  actual  331002647.0  North America\n",
              "\n",
              "[7 rows x 14 columns]"
            ]
          },
          "metadata": {
            "tags": []
          },
          "execution_count": 4
        }
      ]
    },
    {
      "cell_type": "code",
      "metadata": {
        "id": "_a3EqDKMSCVK",
        "colab_type": "code",
        "outputId": "a8291a6e-acbc-46ce-aa51-358811b46818",
        "colab": {
          "base_uri": "https://localhost:8080/",
          "height": 283
        }
      },
      "source": [
        "plot_cdr(US_Cov[US_Cov['source']=='actual'], \n",
        "         'Covid in the United States','W')"
      ],
      "execution_count": 5,
      "outputs": [
        {
          "output_type": "display_data",
          "data": {
            "image/png": "[encoded data removed]",
            "text/plain": [
              "<Figure size 432x288 with 2 Axes>"
            ]
          },
          "metadata": {
            "tags": [],
            "needs_background": "light"
          }
        }
      ]
    },
    {
      "cell_type": "markdown",
      "metadata": {
        "id": "MYbqyuTDaNi-",
        "colab_type": "text"
      },
      "source": [
        "and in 100 days."
      ]
    },
    {
      "cell_type": "code",
      "metadata": {
        "id": "K3wJGJBr2MJq",
        "colab_type": "code",
        "outputId": "6420931a-98ba-4869-b549-6a5771b8a960",
        "colab": {
          "base_uri": "https://localhost:8080/",
          "height": 33
        }
      },
      "source": [
        "days_back = 14\n",
        "target = 0.7\n",
        "repros = US_Cov[US_Cov['source']=='actual'].repro_number - target\n",
        "repros.pct_change().tail(days_back).mean()"
      ],
      "execution_count": 6,
      "outputs": [
        {
          "output_type": "execute_result",
          "data": {
            "text/plain": [
              "-0.04105844444022201"
            ]
          },
          "metadata": {
            "tags": []
          },
          "execution_count": 6
        }
      ]
    },
    {
      "cell_type": "code",
      "metadata": {
        "id": "oGxHiFKGyNCO",
        "colab_type": "code",
        "outputId": "40d66234-9b89-464c-9cc7-47f6e8c77b82",
        "colab": {
          "base_uri": "https://localhost:8080/",
          "height": 248
        }
      },
      "source": [
        "US_Cov = forecast(US_Cov, 100, repro_move=[0.7, 0.04, -4])\n",
        "default_scenario = US_Cov.copy()\n",
        "default_scenario.tail(7)"
      ],
      "execution_count": 7,
      "outputs": [
        {
          "output_type": "execute_result",
          "data": {
            "text/html": [
              "<div>\n",
              "<style scoped>\n",
              "    .dataframe tbody tr th:only-of-type {\n",
              "        vertical-align: middle;\n",
              "    }\n",
              "\n",
              "    .dataframe tbody tr th {\n",
              "        vertical-align: top;\n",
              "    }\n",
              "\n",
              "    .dataframe thead th {\n",
              "        text-align: right;\n",
              "    }\n",
              "</style>\n",
              "<table border=\"1\" class=\"dataframe\">\n",
              "  <thead>\n",
              "    <tr style=\"text-align: right;\">\n",
              "      <th></th>\n",
              "      <th>day</th>\n",
              "      <th>new_cases</th>\n",
              "      <th>total_cases</th>\n",
              "      <th>cases_pct_of_pop</th>\n",
              "      <th>new_deaths</th>\n",
              "      <th>total_deaths</th>\n",
              "      <th>fatality</th>\n",
              "      <th>contagious</th>\n",
              "      <th>repro_number</th>\n",
              "      <th>growth</th>\n",
              "      <th>days_to_dbl</th>\n",
              "      <th>source</th>\n",
              "      <th>population</th>\n",
              "      <th>region</th>\n",
              "    </tr>\n",
              "  </thead>\n",
              "  <tbody>\n",
              "    <tr>\n",
              "      <th>2020-07-19</th>\n",
              "      <td>Sun</td>\n",
              "      <td>255.030938</td>\n",
              "      <td>1.256557e+06</td>\n",
              "      <td>0.379622</td>\n",
              "      <td>12.353569</td>\n",
              "      <td>60866.997844</td>\n",
              "      <td>0.048439</td>\n",
              "      <td>4606.856411</td>\n",
              "      <td>0.700014</td>\n",
              "      <td>0.000203</td>\n",
              "      <td>3414.843515</td>\n",
              "      <td>forecast</td>\n",
              "      <td>331002647.0</td>\n",
              "      <td>North America</td>\n",
              "    </tr>\n",
              "    <tr>\n",
              "      <th>2020-07-20</th>\n",
              "      <td>Mon</td>\n",
              "      <td>242.176208</td>\n",
              "      <td>1.256799e+06</td>\n",
              "      <td>0.379695</td>\n",
              "      <td>11.730893</td>\n",
              "      <td>60878.728737</td>\n",
              "      <td>0.048439</td>\n",
              "      <td>4374.652198</td>\n",
              "      <td>0.700014</td>\n",
              "      <td>0.000193</td>\n",
              "      <td>3596.815190</td>\n",
              "      <td>forecast</td>\n",
              "      <td>331002647.0</td>\n",
              "      <td>North America</td>\n",
              "    </tr>\n",
              "    <tr>\n",
              "      <th>2020-07-21</th>\n",
              "      <td>Tue</td>\n",
              "      <td>229.969371</td>\n",
              "      <td>1.257029e+06</td>\n",
              "      <td>0.379764</td>\n",
              "      <td>11.139600</td>\n",
              "      <td>60889.868337</td>\n",
              "      <td>0.048439</td>\n",
              "      <td>4154.151225</td>\n",
              "      <td>0.700014</td>\n",
              "      <td>0.000183</td>\n",
              "      <td>3788.446668</td>\n",
              "      <td>forecast</td>\n",
              "      <td>331002647.0</td>\n",
              "      <td>North America</td>\n",
              "    </tr>\n",
              "    <tr>\n",
              "      <th>2020-07-22</th>\n",
              "      <td>Wed</td>\n",
              "      <td>218.377783</td>\n",
              "      <td>1.257248e+06</td>\n",
              "      <td>0.379830</td>\n",
              "      <td>10.578109</td>\n",
              "      <td>60900.446446</td>\n",
              "      <td>0.048439</td>\n",
              "      <td>3944.763892</td>\n",
              "      <td>0.700014</td>\n",
              "      <td>0.000174</td>\n",
              "      <td>3990.250611</td>\n",
              "      <td>forecast</td>\n",
              "      <td>331002647.0</td>\n",
              "      <td>North America</td>\n",
              "    </tr>\n",
              "    <tr>\n",
              "      <th>2020-07-23</th>\n",
              "      <td>Thu</td>\n",
              "      <td>207.370447</td>\n",
              "      <td>1.257455e+06</td>\n",
              "      <td>0.379893</td>\n",
              "      <td>10.044919</td>\n",
              "      <td>60910.491365</td>\n",
              "      <td>0.048439</td>\n",
              "      <td>3745.930273</td>\n",
              "      <td>0.700014</td>\n",
              "      <td>0.000165</td>\n",
              "      <td>4202.766828</td>\n",
              "      <td>forecast</td>\n",
              "      <td>331002647.0</td>\n",
              "      <td>North America</td>\n",
              "    </tr>\n",
              "    <tr>\n",
              "      <th>2020-07-24</th>\n",
              "      <td>Fri</td>\n",
              "      <td>196.917926</td>\n",
              "      <td>1.257652e+06</td>\n",
              "      <td>0.379952</td>\n",
              "      <td>9.538605</td>\n",
              "      <td>60920.029970</td>\n",
              "      <td>0.048439</td>\n",
              "      <td>3557.118580</td>\n",
              "      <td>0.700014</td>\n",
              "      <td>0.000157</td>\n",
              "      <td>4426.563756</td>\n",
              "      <td>forecast</td>\n",
              "      <td>331002647.0</td>\n",
              "      <td>North America</td>\n",
              "    </tr>\n",
              "    <tr>\n",
              "      <th>2020-07-25</th>\n",
              "      <td>Sat</td>\n",
              "      <td>186.992261</td>\n",
              "      <td>1.257839e+06</td>\n",
              "      <td>0.380009</td>\n",
              "      <td>9.057810</td>\n",
              "      <td>60929.087780</td>\n",
              "      <td>0.048439</td>\n",
              "      <td>3377.823737</td>\n",
              "      <td>0.700014</td>\n",
              "      <td>0.000149</td>\n",
              "      <td>4662.240038</td>\n",
              "      <td>forecast</td>\n",
              "      <td>331002647.0</td>\n",
              "      <td>North America</td>\n",
              "    </tr>\n",
              "  </tbody>\n",
              "</table>\n",
              "</div>"
            ],
            "text/plain": [
              "            day   new_cases   total_cases  ...    source   population         region\n",
              "2020-07-19  Sun  255.030938  1.256557e+06  ...  forecast  331002647.0  North America\n",
              "2020-07-20  Mon  242.176208  1.256799e+06  ...  forecast  331002647.0  North America\n",
              "2020-07-21  Tue  229.969371  1.257029e+06  ...  forecast  331002647.0  North America\n",
              "2020-07-22  Wed  218.377783  1.257248e+06  ...  forecast  331002647.0  North America\n",
              "2020-07-23  Thu  207.370447  1.257455e+06  ...  forecast  331002647.0  North America\n",
              "2020-07-24  Fri  196.917926  1.257652e+06  ...  forecast  331002647.0  North America\n",
              "2020-07-25  Sat  186.992261  1.257839e+06  ...  forecast  331002647.0  North America\n",
              "\n",
              "[7 rows x 14 columns]"
            ]
          },
          "metadata": {
            "tags": []
          },
          "execution_count": 7
        }
      ]
    },
    {
      "cell_type": "code",
      "metadata": {
        "id": "lkvVKzuQdWLK",
        "colab_type": "code",
        "outputId": "d3d96ccf-23ff-4b40-bbc5-211831098549",
        "colab": {
          "base_uri": "https://localhost:8080/",
          "height": 283
        }
      },
      "source": [
        "plot_cdr(default_scenario, 'Covid in the United States')"
      ],
      "execution_count": 8,
      "outputs": [
        {
          "output_type": "display_data",
          "data": {
            "image/png": "[encoded data removed]",
            "text/plain": [
              "<Figure size 432x288 with 2 Axes>"
            ]
          },
          "metadata": {
            "tags": [],
            "needs_background": "light"
          }
        }
      ]
    },
    {
      "cell_type": "markdown",
      "metadata": {
        "id": "AOEDb3cjQIyz",
        "colab_type": "text"
      },
      "source": [
        "### Relax Too Early Scenario"
      ]
    },
    {
      "cell_type": "code",
      "metadata": {
        "id": "4N9H4xN6Hk2H",
        "colab_type": "code",
        "outputId": "15d04d8e-1ce2-4151-d012-8e4aacc9574c",
        "colab": {
          "base_uri": "https://localhost:8080/",
          "height": 248
        }
      },
      "source": [
        "forecast_days = 100\n",
        "relax_date = date(2020, 5, 1) #Easter is 4/12/2020\n",
        "relax_days = 14\n",
        "\n",
        "last_actual = US_Cov[US_Cov['source']=='actual'].index.max().date()\n",
        "stage_1 = (relax_date - last_actual).days\n",
        "stage_2 = relax_days\n",
        "stage_3 = forecast_days - stage_1 - stage_2\n",
        "\n",
        "US_Cov = forecast(US_Cov, stage_1, repro_move=[0.7, 0.08, -4], replace=True)\n",
        "US_Cov = forecast(US_Cov, stage_2, repro_move=[1.5, 0.08,  0], replace=False)\n",
        "US_Cov = forecast(US_Cov, stage_3, repro_move=[0.7, 0.08,  0], replace=False)\n",
        "\n",
        "relax_scenario = US_Cov.copy()\n",
        "relax_scenario.tail(7)"
      ],
      "execution_count": 9,
      "outputs": [
        {
          "output_type": "execute_result",
          "data": {
            "text/html": [
              "<div>\n",
              "<style scoped>\n",
              "    .dataframe tbody tr th:only-of-type {\n",
              "        vertical-align: middle;\n",
              "    }\n",
              "\n",
              "    .dataframe tbody tr th {\n",
              "        vertical-align: top;\n",
              "    }\n",
              "\n",
              "    .dataframe thead th {\n",
              "        text-align: right;\n",
              "    }\n",
              "</style>\n",
              "<table border=\"1\" class=\"dataframe\">\n",
              "  <thead>\n",
              "    <tr style=\"text-align: right;\">\n",
              "      <th></th>\n",
              "      <th>day</th>\n",
              "      <th>new_cases</th>\n",
              "      <th>total_cases</th>\n",
              "      <th>cases_pct_of_pop</th>\n",
              "      <th>new_deaths</th>\n",
              "      <th>total_deaths</th>\n",
              "      <th>fatality</th>\n",
              "      <th>contagious</th>\n",
              "      <th>repro_number</th>\n",
              "      <th>growth</th>\n",
              "      <th>days_to_dbl</th>\n",
              "      <th>source</th>\n",
              "      <th>population</th>\n",
              "      <th>region</th>\n",
              "    </tr>\n",
              "  </thead>\n",
              "  <tbody>\n",
              "    <tr>\n",
              "      <th>2020-07-19</th>\n",
              "      <td>Sun</td>\n",
              "      <td>1285.840246</td>\n",
              "      <td>1.840245e+06</td>\n",
              "      <td>0.555961</td>\n",
              "      <td>62.285450</td>\n",
              "      <td>89140.523558</td>\n",
              "      <td>0.048439</td>\n",
              "      <td>23204.438049</td>\n",
              "      <td>0.701973</td>\n",
              "      <td>0.000699</td>\n",
              "      <td>991.658785</td>\n",
              "      <td>forecast</td>\n",
              "      <td>331002647.0</td>\n",
              "      <td>North America</td>\n",
              "    </tr>\n",
              "    <tr>\n",
              "      <th>2020-07-20</th>\n",
              "      <td>Mon</td>\n",
              "      <td>1221.138651</td>\n",
              "      <td>1.841466e+06</td>\n",
              "      <td>0.556330</td>\n",
              "      <td>59.151337</td>\n",
              "      <td>89199.674896</td>\n",
              "      <td>0.048439</td>\n",
              "      <td>22037.185126</td>\n",
              "      <td>0.701973</td>\n",
              "      <td>0.000663</td>\n",
              "      <td>1044.912986</td>\n",
              "      <td>forecast</td>\n",
              "      <td>331002647.0</td>\n",
              "      <td>North America</td>\n",
              "    </tr>\n",
              "    <tr>\n",
              "      <th>2020-07-21</th>\n",
              "      <td>Tue</td>\n",
              "      <td>1159.706411</td>\n",
              "      <td>1.842626e+06</td>\n",
              "      <td>0.556680</td>\n",
              "      <td>56.175591</td>\n",
              "      <td>89255.850487</td>\n",
              "      <td>0.048439</td>\n",
              "      <td>20929.022395</td>\n",
              "      <td>0.701973</td>\n",
              "      <td>0.000630</td>\n",
              "      <td>1100.975871</td>\n",
              "      <td>forecast</td>\n",
              "      <td>331002647.0</td>\n",
              "      <td>North America</td>\n",
              "    </tr>\n",
              "    <tr>\n",
              "      <th>2020-07-22</th>\n",
              "      <td>Wed</td>\n",
              "      <td>1101.384193</td>\n",
              "      <td>1.843727e+06</td>\n",
              "      <td>0.557013</td>\n",
              "      <td>53.350492</td>\n",
              "      <td>89309.200979</td>\n",
              "      <td>0.048439</td>\n",
              "      <td>19876.937356</td>\n",
              "      <td>0.701973</td>\n",
              "      <td>0.000598</td>\n",
              "      <td>1159.987971</td>\n",
              "      <td>forecast</td>\n",
              "      <td>331002647.0</td>\n",
              "      <td>North America</td>\n",
              "    </tr>\n",
              "    <tr>\n",
              "      <th>2020-07-23</th>\n",
              "      <td>Thu</td>\n",
              "      <td>1046.013767</td>\n",
              "      <td>1.844773e+06</td>\n",
              "      <td>0.557329</td>\n",
              "      <td>50.668377</td>\n",
              "      <td>89359.869356</td>\n",
              "      <td>0.048439</td>\n",
              "      <td>18877.988453</td>\n",
              "      <td>0.701973</td>\n",
              "      <td>0.000567</td>\n",
              "      <td>1222.103083</td>\n",
              "      <td>forecast</td>\n",
              "      <td>331002647.0</td>\n",
              "      <td>North America</td>\n",
              "    </tr>\n",
              "    <tr>\n",
              "      <th>2020-07-24</th>\n",
              "      <td>Fri</td>\n",
              "      <td>993.440507</td>\n",
              "      <td>1.845766e+06</td>\n",
              "      <td>0.557629</td>\n",
              "      <td>48.121755</td>\n",
              "      <td>89407.991110</td>\n",
              "      <td>0.048439</td>\n",
              "      <td>17929.351322</td>\n",
              "      <td>0.701973</td>\n",
              "      <td>0.000538</td>\n",
              "      <td>1287.488748</td>\n",
              "      <td>forecast</td>\n",
              "      <td>331002647.0</td>\n",
              "      <td>North America</td>\n",
              "    </tr>\n",
              "    <tr>\n",
              "      <th>2020-07-25</th>\n",
              "      <td>Sat</td>\n",
              "      <td>943.515814</td>\n",
              "      <td>1.846710e+06</td>\n",
              "      <td>0.557914</td>\n",
              "      <td>45.703428</td>\n",
              "      <td>89453.694538</td>\n",
              "      <td>0.048439</td>\n",
              "      <td>17028.357066</td>\n",
              "      <td>0.701973</td>\n",
              "      <td>0.000511</td>\n",
              "      <td>1356.325731</td>\n",
              "      <td>forecast</td>\n",
              "      <td>331002647.0</td>\n",
              "      <td>North America</td>\n",
              "    </tr>\n",
              "  </tbody>\n",
              "</table>\n",
              "</div>"
            ],
            "text/plain": [
              "            day    new_cases  ...   population         region\n",
              "2020-07-19  Sun  1285.840246  ...  331002647.0  North America\n",
              "2020-07-20  Mon  1221.138651  ...  331002647.0  North America\n",
              "2020-07-21  Tue  1159.706411  ...  331002647.0  North America\n",
              "2020-07-22  Wed  1101.384193  ...  331002647.0  North America\n",
              "2020-07-23  Thu  1046.013767  ...  331002647.0  North America\n",
              "2020-07-24  Fri   993.440507  ...  331002647.0  North America\n",
              "2020-07-25  Sat   943.515814  ...  331002647.0  North America\n",
              "\n",
              "[7 rows x 14 columns]"
            ]
          },
          "metadata": {
            "tags": []
          },
          "execution_count": 9
        }
      ]
    },
    {
      "cell_type": "code",
      "metadata": {
        "id": "Wr6HiKThzUR4",
        "colab_type": "code",
        "outputId": "72297def-2f68-41b7-8e98-6d3372b19c9f",
        "colab": {
          "base_uri": "https://localhost:8080/",
          "height": 283
        }
      },
      "source": [
        "plot_cdr(relax_scenario, 'Covid in the United States: Relax Too Early Scenario')"
      ],
      "execution_count": 10,
      "outputs": [
        {
          "output_type": "display_data",
          "data": {
            "image/png": "[encoded data removed]",
            "text/plain": [
              "<Figure size 432x288 with 2 Axes>"
            ]
          },
          "metadata": {
            "tags": [],
            "needs_background": "light"
          }
        }
      ]
    },
    {
      "cell_type": "code",
      "metadata": {
        "id": "4JuwVA8zyVme",
        "colab_type": "code",
        "outputId": "9cac016c-6035-4871-e265-ae1732c50f88",
        "colab": {
          "base_uri": "https://localhost:8080/",
          "height": 283
        }
      },
      "source": [
        "column = 'total_deaths'\n",
        "\n",
        "relaxed = relax_scenario[relax_scenario['source']=='forecast'][column]\n",
        "default = default_scenario[[column,'source']]\n",
        "\n",
        "compare = pd.concat([default, relaxed], axis=1)\n",
        "compare.columns = ['default','source','relaxed']\n",
        "\n",
        "plot_timeline(compare, 'Default vs Relaxed Scenarios',\n",
        "              date_freq='MS',\n",
        "              left=['default','relaxed'], right=None,\n",
        "              left_ylabel=column + ' (thousands)')"
      ],
      "execution_count": 11,
      "outputs": [
        {
          "output_type": "display_data",
          "data": {
            "image/png": "[encoded data removed]",
            "text/plain": [
              "<Figure size 432x288 with 1 Axes>"
            ]
          },
          "metadata": {
            "tags": [],
            "needs_background": "light"
          }
        }
      ]
    },
    {
      "cell_type": "markdown",
      "metadata": {
        "id": "eo49Mx0TQcPo",
        "colab_type": "text"
      },
      "source": [
        "### No Further Improvements Scenario"
      ]
    },
    {
      "cell_type": "code",
      "metadata": {
        "id": "F0GpnprmzMqi",
        "colab_type": "code",
        "outputId": "667a881d-dda7-4789-97d7-75c12b6e1cd5",
        "colab": {
          "base_uri": "https://localhost:8080/",
          "height": 248
        }
      },
      "source": [
        "US_Cov = forecast(US_Cov, 200)\n",
        "US_Cov.tail(7).round(2)"
      ],
      "execution_count": 12,
      "outputs": [
        {
          "output_type": "execute_result",
          "data": {
            "text/html": [
              "<div>\n",
              "<style scoped>\n",
              "    .dataframe tbody tr th:only-of-type {\n",
              "        vertical-align: middle;\n",
              "    }\n",
              "\n",
              "    .dataframe tbody tr th {\n",
              "        vertical-align: top;\n",
              "    }\n",
              "\n",
              "    .dataframe thead th {\n",
              "        text-align: right;\n",
              "    }\n",
              "</style>\n",
              "<table border=\"1\" class=\"dataframe\">\n",
              "  <thead>\n",
              "    <tr style=\"text-align: right;\">\n",
              "      <th></th>\n",
              "      <th>day</th>\n",
              "      <th>new_cases</th>\n",
              "      <th>total_cases</th>\n",
              "      <th>cases_pct_of_pop</th>\n",
              "      <th>new_deaths</th>\n",
              "      <th>total_deaths</th>\n",
              "      <th>fatality</th>\n",
              "      <th>contagious</th>\n",
              "      <th>repro_number</th>\n",
              "      <th>growth</th>\n",
              "      <th>days_to_dbl</th>\n",
              "      <th>source</th>\n",
              "      <th>population</th>\n",
              "      <th>region</th>\n",
              "    </tr>\n",
              "  </thead>\n",
              "  <tbody>\n",
              "    <tr>\n",
              "      <th>2020-10-27</th>\n",
              "      <td>Tue</td>\n",
              "      <td>20727.86</td>\n",
              "      <td>5679322.95</td>\n",
              "      <td>1.72</td>\n",
              "      <td>1004.05</td>\n",
              "      <td>275103.53</td>\n",
              "      <td>0.05</td>\n",
              "      <td>274258.44</td>\n",
              "      <td>1.0</td>\n",
              "      <td>0.0</td>\n",
              "      <td>189.57</td>\n",
              "      <td>forecast</td>\n",
              "      <td>331002647.0</td>\n",
              "      <td>North America</td>\n",
              "    </tr>\n",
              "    <tr>\n",
              "      <th>2020-10-28</th>\n",
              "      <td>Wed</td>\n",
              "      <td>20666.28</td>\n",
              "      <td>5699989.22</td>\n",
              "      <td>1.72</td>\n",
              "      <td>1001.06</td>\n",
              "      <td>276104.59</td>\n",
              "      <td>0.05</td>\n",
              "      <td>273459.53</td>\n",
              "      <td>1.0</td>\n",
              "      <td>0.0</td>\n",
              "      <td>190.83</td>\n",
              "      <td>forecast</td>\n",
              "      <td>331002647.0</td>\n",
              "      <td>North America</td>\n",
              "    </tr>\n",
              "    <tr>\n",
              "      <th>2020-10-29</th>\n",
              "      <td>Thu</td>\n",
              "      <td>20604.68</td>\n",
              "      <td>5720593.91</td>\n",
              "      <td>1.73</td>\n",
              "      <td>998.08</td>\n",
              "      <td>277102.67</td>\n",
              "      <td>0.05</td>\n",
              "      <td>272660.31</td>\n",
              "      <td>1.0</td>\n",
              "      <td>0.0</td>\n",
              "      <td>192.10</td>\n",
              "      <td>forecast</td>\n",
              "      <td>331002647.0</td>\n",
              "      <td>North America</td>\n",
              "    </tr>\n",
              "    <tr>\n",
              "      <th>2020-10-30</th>\n",
              "      <td>Fri</td>\n",
              "      <td>20543.08</td>\n",
              "      <td>5741136.99</td>\n",
              "      <td>1.73</td>\n",
              "      <td>995.10</td>\n",
              "      <td>278097.77</td>\n",
              "      <td>0.05</td>\n",
              "      <td>271860.81</td>\n",
              "      <td>1.0</td>\n",
              "      <td>0.0</td>\n",
              "      <td>193.37</td>\n",
              "      <td>forecast</td>\n",
              "      <td>331002647.0</td>\n",
              "      <td>North America</td>\n",
              "    </tr>\n",
              "    <tr>\n",
              "      <th>2020-10-31</th>\n",
              "      <td>Sat</td>\n",
              "      <td>20481.46</td>\n",
              "      <td>5761618.45</td>\n",
              "      <td>1.74</td>\n",
              "      <td>992.11</td>\n",
              "      <td>279089.88</td>\n",
              "      <td>0.05</td>\n",
              "      <td>271061.05</td>\n",
              "      <td>1.0</td>\n",
              "      <td>0.0</td>\n",
              "      <td>194.64</td>\n",
              "      <td>forecast</td>\n",
              "      <td>331002647.0</td>\n",
              "      <td>North America</td>\n",
              "    </tr>\n",
              "    <tr>\n",
              "      <th>2020-11-01</th>\n",
              "      <td>Sun</td>\n",
              "      <td>20419.84</td>\n",
              "      <td>5782038.30</td>\n",
              "      <td>1.75</td>\n",
              "      <td>989.13</td>\n",
              "      <td>280079.00</td>\n",
              "      <td>0.05</td>\n",
              "      <td>270261.06</td>\n",
              "      <td>1.0</td>\n",
              "      <td>0.0</td>\n",
              "      <td>195.92</td>\n",
              "      <td>forecast</td>\n",
              "      <td>331002647.0</td>\n",
              "      <td>North America</td>\n",
              "    </tr>\n",
              "    <tr>\n",
              "      <th>2020-11-02</th>\n",
              "      <td>Mon</td>\n",
              "      <td>20358.22</td>\n",
              "      <td>5802396.51</td>\n",
              "      <td>1.75</td>\n",
              "      <td>986.14</td>\n",
              "      <td>281065.15</td>\n",
              "      <td>0.05</td>\n",
              "      <td>269460.85</td>\n",
              "      <td>1.0</td>\n",
              "      <td>0.0</td>\n",
              "      <td>197.21</td>\n",
              "      <td>forecast</td>\n",
              "      <td>331002647.0</td>\n",
              "      <td>North America</td>\n",
              "    </tr>\n",
              "  </tbody>\n",
              "</table>\n",
              "</div>"
            ],
            "text/plain": [
              "            day  new_cases  total_cases  ...    source   population         region\n",
              "2020-10-27  Tue   20727.86   5679322.95  ...  forecast  331002647.0  North America\n",
              "2020-10-28  Wed   20666.28   5699989.22  ...  forecast  331002647.0  North America\n",
              "2020-10-29  Thu   20604.68   5720593.91  ...  forecast  331002647.0  North America\n",
              "2020-10-30  Fri   20543.08   5741136.99  ...  forecast  331002647.0  North America\n",
              "2020-10-31  Sat   20481.46   5761618.45  ...  forecast  331002647.0  North America\n",
              "2020-11-01  Sun   20419.84   5782038.30  ...  forecast  331002647.0  North America\n",
              "2020-11-02  Mon   20358.22   5802396.51  ...  forecast  331002647.0  North America\n",
              "\n",
              "[7 rows x 14 columns]"
            ]
          },
          "metadata": {
            "tags": []
          },
          "execution_count": 12
        }
      ]
    },
    {
      "cell_type": "code",
      "metadata": {
        "id": "t-InF2hWeEfA",
        "colab_type": "code",
        "outputId": "10b9ca1e-84ac-46d6-cea7-f304876aedd3",
        "colab": {
          "base_uri": "https://localhost:8080/",
          "height": 283
        }
      },
      "source": [
        "plot_cdr(US_Cov, 'Covid in the United States', date_freq='Q')"
      ],
      "execution_count": 13,
      "outputs": [
        {
          "output_type": "display_data",
          "data": {
            "image/png": "[encoded data removed]",
            "text/plain": [
              "<Figure size 432x288 with 2 Axes>"
            ]
          },
          "metadata": {
            "tags": [],
            "needs_background": "light"
          }
        }
      ]
    },
    {
      "cell_type": "markdown",
      "metadata": {
        "id": "CppU3dXORbEN",
        "colab_type": "text"
      },
      "source": [
        "## Other Countries"
      ]
    },
    {
      "cell_type": "markdown",
      "metadata": {
        "id": "sAoThb_vQMGp",
        "colab_type": "text"
      },
      "source": [
        "### China"
      ]
    },
    {
      "cell_type": "code",
      "metadata": {
        "id": "_hZLPqsvu8Wl",
        "colab_type": "code",
        "outputId": "d336e8b1-f88c-4f32-c961-faf33560f0a2",
        "colab": {
          "base_uri": "https://localhost:8080/",
          "height": 248
        }
      },
      "source": [
        "China_Cov = df[df['total_cases']>100].loc['China']\n",
        "China_Cov[China_Cov['source']=='actual'].tail(7)"
      ],
      "execution_count": 14,
      "outputs": [
        {
          "output_type": "execute_result",
          "data": {
            "text/html": [
              "<div>\n",
              "<style scoped>\n",
              "    .dataframe tbody tr th:only-of-type {\n",
              "        vertical-align: middle;\n",
              "    }\n",
              "\n",
              "    .dataframe tbody tr th {\n",
              "        vertical-align: top;\n",
              "    }\n",
              "\n",
              "    .dataframe thead th {\n",
              "        text-align: right;\n",
              "    }\n",
              "</style>\n",
              "<table border=\"1\" class=\"dataframe\">\n",
              "  <thead>\n",
              "    <tr style=\"text-align: right;\">\n",
              "      <th></th>\n",
              "      <th>day</th>\n",
              "      <th>new_cases</th>\n",
              "      <th>total_cases</th>\n",
              "      <th>cases_pct_of_pop</th>\n",
              "      <th>new_deaths</th>\n",
              "      <th>total_deaths</th>\n",
              "      <th>fatality</th>\n",
              "      <th>contagious</th>\n",
              "      <th>repro_number</th>\n",
              "      <th>growth</th>\n",
              "      <th>days_to_dbl</th>\n",
              "      <th>source</th>\n",
              "      <th>population</th>\n",
              "      <th>region</th>\n",
              "    </tr>\n",
              "  </thead>\n",
              "  <tbody>\n",
              "    <tr>\n",
              "      <th>2020-04-10</th>\n",
              "      <td>Fri</td>\n",
              "      <td>55</td>\n",
              "      <td>82925</td>\n",
              "      <td>0.005761</td>\n",
              "      <td>1</td>\n",
              "      <td>3340</td>\n",
              "      <td>0.040277</td>\n",
              "      <td>1098.0</td>\n",
              "      <td>0.701275</td>\n",
              "      <td>0.000663</td>\n",
              "      <td>1044.730296</td>\n",
              "      <td>actual</td>\n",
              "      <td>1.439324e+09</td>\n",
              "      <td>Asia</td>\n",
              "    </tr>\n",
              "    <tr>\n",
              "      <th>2020-04-11</th>\n",
              "      <td>Sat</td>\n",
              "      <td>79</td>\n",
              "      <td>83004</td>\n",
              "      <td>0.005767</td>\n",
              "      <td>3</td>\n",
              "      <td>3343</td>\n",
              "      <td>0.040275</td>\n",
              "      <td>1058.0</td>\n",
              "      <td>1.045369</td>\n",
              "      <td>0.000952</td>\n",
              "      <td>727.931708</td>\n",
              "      <td>actual</td>\n",
              "      <td>1.439324e+09</td>\n",
              "      <td>Asia</td>\n",
              "    </tr>\n",
              "    <tr>\n",
              "      <th>2020-04-12</th>\n",
              "      <td>Sun</td>\n",
              "      <td>93</td>\n",
              "      <td>83097</td>\n",
              "      <td>0.005773</td>\n",
              "      <td>0</td>\n",
              "      <td>3343</td>\n",
              "      <td>0.040230</td>\n",
              "      <td>1038.0</td>\n",
              "      <td>1.254335</td>\n",
              "      <td>0.001120</td>\n",
              "      <td>618.991547</td>\n",
              "      <td>actual</td>\n",
              "      <td>1.439324e+09</td>\n",
              "      <td>Asia</td>\n",
              "    </tr>\n",
              "    <tr>\n",
              "      <th>2020-04-13</th>\n",
              "      <td>Mon</td>\n",
              "      <td>112</td>\n",
              "      <td>83209</td>\n",
              "      <td>0.005781</td>\n",
              "      <td>2</td>\n",
              "      <td>3345</td>\n",
              "      <td>0.040200</td>\n",
              "      <td>1052.0</td>\n",
              "      <td>1.490494</td>\n",
              "      <td>0.001347</td>\n",
              "      <td>514.618382</td>\n",
              "      <td>actual</td>\n",
              "      <td>1.439324e+09</td>\n",
              "      <td>Asia</td>\n",
              "    </tr>\n",
              "    <tr>\n",
              "      <th>2020-04-14</th>\n",
              "      <td>Tue</td>\n",
              "      <td>94</td>\n",
              "      <td>83303</td>\n",
              "      <td>0.005788</td>\n",
              "      <td>0</td>\n",
              "      <td>3345</td>\n",
              "      <td>0.040155</td>\n",
              "      <td>1062.0</td>\n",
              "      <td>1.239171</td>\n",
              "      <td>0.001129</td>\n",
              "      <td>613.921867</td>\n",
              "      <td>actual</td>\n",
              "      <td>1.439324e+09</td>\n",
              "      <td>Asia</td>\n",
              "    </tr>\n",
              "    <tr>\n",
              "      <th>2020-04-15</th>\n",
              "      <td>Wed</td>\n",
              "      <td>49</td>\n",
              "      <td>83352</td>\n",
              "      <td>0.005791</td>\n",
              "      <td>1</td>\n",
              "      <td>3346</td>\n",
              "      <td>0.040143</td>\n",
              "      <td>1057.0</td>\n",
              "      <td>0.649007</td>\n",
              "      <td>0.000588</td>\n",
              "      <td>1178.739184</td>\n",
              "      <td>actual</td>\n",
              "      <td>1.439324e+09</td>\n",
              "      <td>Asia</td>\n",
              "    </tr>\n",
              "    <tr>\n",
              "      <th>2020-04-16</th>\n",
              "      <td>Thu</td>\n",
              "      <td>50</td>\n",
              "      <td>83402</td>\n",
              "      <td>0.005795</td>\n",
              "      <td>0</td>\n",
              "      <td>3346</td>\n",
              "      <td>0.040119</td>\n",
              "      <td>1007.0</td>\n",
              "      <td>0.695134</td>\n",
              "      <td>0.000600</td>\n",
              "      <td>1155.850615</td>\n",
              "      <td>actual</td>\n",
              "      <td>1.439324e+09</td>\n",
              "      <td>Asia</td>\n",
              "    </tr>\n",
              "  </tbody>\n",
              "</table>\n",
              "</div>"
            ],
            "text/plain": [
              "            day  new_cases  total_cases  ...  source    population  region\n",
              "2020-04-10  Fri         55        82925  ...  actual  1.439324e+09    Asia\n",
              "2020-04-11  Sat         79        83004  ...  actual  1.439324e+09    Asia\n",
              "2020-04-12  Sun         93        83097  ...  actual  1.439324e+09    Asia\n",
              "2020-04-13  Mon        112        83209  ...  actual  1.439324e+09    Asia\n",
              "2020-04-14  Tue         94        83303  ...  actual  1.439324e+09    Asia\n",
              "2020-04-15  Wed         49        83352  ...  actual  1.439324e+09    Asia\n",
              "2020-04-16  Thu         50        83402  ...  actual  1.439324e+09    Asia\n",
              "\n",
              "[7 rows x 14 columns]"
            ]
          },
          "metadata": {
            "tags": []
          },
          "execution_count": 14
        }
      ]
    },
    {
      "cell_type": "code",
      "metadata": {
        "id": "it79Yj784NCf",
        "colab_type": "code",
        "outputId": "3131704b-1c9b-47cf-ef0a-16260c983375",
        "colab": {
          "base_uri": "https://localhost:8080/",
          "height": 33
        }
      },
      "source": [
        "days_back = 21\n",
        "target = 0.7\n",
        "repros= China_Cov[China_Cov['source']=='actual'].repro_number-target\n",
        "repros.pct_change().tail(days_back).mean()"
      ],
      "execution_count": 15,
      "outputs": [
        {
          "output_type": "execute_result",
          "data": {
            "text/plain": [
              "13.105112873744261"
            ]
          },
          "metadata": {
            "tags": []
          },
          "execution_count": 15
        }
      ]
    },
    {
      "cell_type": "code",
      "metadata": {
        "id": "2E6hZ84uHHzw",
        "colab_type": "code",
        "outputId": "33421e93-ca54-4d0e-bb0a-6bbe542ce1a6",
        "colab": {
          "base_uri": "https://localhost:8080/",
          "height": 283
        }
      },
      "source": [
        "China_Cov = forecast(China_Cov, 100, repro_move=[-0.5, 0.7])\n",
        "\n",
        "China_Cov['new_cases_smoothed']=China_Cov['new_cases'].rolling(7).mean()\n",
        "China_Cov['repro_number_smoothed']=China_Cov['repro_number'].rolling(7).mean()\n",
        "plot_cdr(China_Cov, 'Covid in the China',\n",
        "         left = ['total_deaths', 'new_cases_smoothed'],\n",
        "         right='repro_number_smoothed')"
      ],
      "execution_count": 16,
      "outputs": [
        {
          "output_type": "display_data",
          "data": {
            "image/png": "[encoded data removed]",
            "text/plain": [
              "<Figure size 432x288 with 2 Axes>"
            ]
          },
          "metadata": {
            "tags": [],
            "needs_background": "light"
          }
        }
      ]
    },
    {
      "cell_type": "code",
      "metadata": {
        "id": "tJ0_dxOwdbHz",
        "colab_type": "code",
        "outputId": "3e4820d3-74fb-448b-d8a2-073434052119",
        "colab": {
          "base_uri": "https://localhost:8080/",
          "height": 283
        }
      },
      "source": [
        "plot_cdr(China_Cov[China_Cov['source']=='actual'].tail(20), 'Covid in the China',\n",
        "         left = ['new_cases'],\n",
        "         right='repro_number',\n",
        "         left_ylabel='cases',\n",
        "         left_yscale=1)"
      ],
      "execution_count": 17,
      "outputs": [
        {
          "output_type": "display_data",
          "data": {
            "image/png": "[encoded data removed]",
            "text/plain": [
              "<Figure size 432x288 with 2 Axes>"
            ]
          },
          "metadata": {
            "tags": [],
            "needs_background": "light"
          }
        }
      ]
    },
    {
      "cell_type": "markdown",
      "metadata": {
        "id": "OozsQ4c9SYoZ",
        "colab_type": "text"
      },
      "source": [
        "### Italy"
      ]
    },
    {
      "cell_type": "code",
      "metadata": {
        "id": "Ff8QocVmSkTk",
        "colab_type": "code",
        "outputId": "2f4d265e-f7d6-46c4-d357-8d4d94b4e4ff",
        "colab": {
          "base_uri": "https://localhost:8080/",
          "height": 248
        }
      },
      "source": [
        "Italy_Cov = df[df['total_cases']>100].loc['Italy']\n",
        "Italy_Cov[Italy_Cov['source']=='actual'].tail(7)"
      ],
      "execution_count": 18,
      "outputs": [
        {
          "output_type": "execute_result",
          "data": {
            "text/html": [
              "<div>\n",
              "<style scoped>\n",
              "    .dataframe tbody tr th:only-of-type {\n",
              "        vertical-align: middle;\n",
              "    }\n",
              "\n",
              "    .dataframe tbody tr th {\n",
              "        vertical-align: top;\n",
              "    }\n",
              "\n",
              "    .dataframe thead th {\n",
              "        text-align: right;\n",
              "    }\n",
              "</style>\n",
              "<table border=\"1\" class=\"dataframe\">\n",
              "  <thead>\n",
              "    <tr style=\"text-align: right;\">\n",
              "      <th></th>\n",
              "      <th>day</th>\n",
              "      <th>new_cases</th>\n",
              "      <th>total_cases</th>\n",
              "      <th>cases_pct_of_pop</th>\n",
              "      <th>new_deaths</th>\n",
              "      <th>total_deaths</th>\n",
              "      <th>fatality</th>\n",
              "      <th>contagious</th>\n",
              "      <th>repro_number</th>\n",
              "      <th>growth</th>\n",
              "      <th>days_to_dbl</th>\n",
              "      <th>source</th>\n",
              "      <th>population</th>\n",
              "      <th>region</th>\n",
              "    </tr>\n",
              "  </thead>\n",
              "  <tbody>\n",
              "    <tr>\n",
              "      <th>2020-04-10</th>\n",
              "      <td>Fri</td>\n",
              "      <td>4204</td>\n",
              "      <td>143626</td>\n",
              "      <td>0.237548</td>\n",
              "      <td>612</td>\n",
              "      <td>18281</td>\n",
              "      <td>0.127282</td>\n",
              "      <td>63087.0</td>\n",
              "      <td>0.932934</td>\n",
              "      <td>0.029707</td>\n",
              "      <td>23.332480</td>\n",
              "      <td>actual</td>\n",
              "      <td>60461828.0</td>\n",
              "      <td>Europe</td>\n",
              "    </tr>\n",
              "    <tr>\n",
              "      <th>2020-04-11</th>\n",
              "      <td>Sat</td>\n",
              "      <td>3951</td>\n",
              "      <td>147577</td>\n",
              "      <td>0.244083</td>\n",
              "      <td>570</td>\n",
              "      <td>18851</td>\n",
              "      <td>0.127737</td>\n",
              "      <td>61079.0</td>\n",
              "      <td>0.905614</td>\n",
              "      <td>0.027137</td>\n",
              "      <td>25.542160</td>\n",
              "      <td>actual</td>\n",
              "      <td>60461828.0</td>\n",
              "      <td>Europe</td>\n",
              "    </tr>\n",
              "    <tr>\n",
              "      <th>2020-04-12</th>\n",
              "      <td>Sun</td>\n",
              "      <td>4694</td>\n",
              "      <td>152271</td>\n",
              "      <td>0.251847</td>\n",
              "      <td>619</td>\n",
              "      <td>19470</td>\n",
              "      <td>0.127864</td>\n",
              "      <td>59799.0</td>\n",
              "      <td>1.098948</td>\n",
              "      <td>0.031312</td>\n",
              "      <td>22.136964</td>\n",
              "      <td>actual</td>\n",
              "      <td>60461828.0</td>\n",
              "      <td>Europe</td>\n",
              "    </tr>\n",
              "    <tr>\n",
              "      <th>2020-04-13</th>\n",
              "      <td>Mon</td>\n",
              "      <td>4092</td>\n",
              "      <td>156363</td>\n",
              "      <td>0.258614</td>\n",
              "      <td>431</td>\n",
              "      <td>19901</td>\n",
              "      <td>0.127274</td>\n",
              "      <td>58674.0</td>\n",
              "      <td>0.976378</td>\n",
              "      <td>0.026518</td>\n",
              "      <td>26.138349</td>\n",
              "      <td>actual</td>\n",
              "      <td>60461828.0</td>\n",
              "      <td>Europe</td>\n",
              "    </tr>\n",
              "    <tr>\n",
              "      <th>2020-04-14</th>\n",
              "      <td>Tue</td>\n",
              "      <td>3153</td>\n",
              "      <td>159516</td>\n",
              "      <td>0.263829</td>\n",
              "      <td>564</td>\n",
              "      <td>20465</td>\n",
              "      <td>0.128294</td>\n",
              "      <td>57777.0</td>\n",
              "      <td>0.764006</td>\n",
              "      <td>0.019964</td>\n",
              "      <td>34.719849</td>\n",
              "      <td>actual</td>\n",
              "      <td>60461828.0</td>\n",
              "      <td>Europe</td>\n",
              "    </tr>\n",
              "    <tr>\n",
              "      <th>2020-04-15</th>\n",
              "      <td>Wed</td>\n",
              "      <td>2972</td>\n",
              "      <td>162488</td>\n",
              "      <td>0.268745</td>\n",
              "      <td>604</td>\n",
              "      <td>21069</td>\n",
              "      <td>0.129665</td>\n",
              "      <td>56696.0</td>\n",
              "      <td>0.733879</td>\n",
              "      <td>0.018460</td>\n",
              "      <td>37.548760</td>\n",
              "      <td>actual</td>\n",
              "      <td>60461828.0</td>\n",
              "      <td>Europe</td>\n",
              "    </tr>\n",
              "    <tr>\n",
              "      <th>2020-04-16</th>\n",
              "      <td>Thu</td>\n",
              "      <td>2667</td>\n",
              "      <td>165155</td>\n",
              "      <td>0.273156</td>\n",
              "      <td>578</td>\n",
              "      <td>21647</td>\n",
              "      <td>0.131071</td>\n",
              "      <td>54581.0</td>\n",
              "      <td>0.684084</td>\n",
              "      <td>0.016280</td>\n",
              "      <td>42.575892</td>\n",
              "      <td>actual</td>\n",
              "      <td>60461828.0</td>\n",
              "      <td>Europe</td>\n",
              "    </tr>\n",
              "  </tbody>\n",
              "</table>\n",
              "</div>"
            ],
            "text/plain": [
              "            day  new_cases  total_cases  ...  source  population  region\n",
              "2020-04-10  Fri       4204       143626  ...  actual  60461828.0  Europe\n",
              "2020-04-11  Sat       3951       147577  ...  actual  60461828.0  Europe\n",
              "2020-04-12  Sun       4694       152271  ...  actual  60461828.0  Europe\n",
              "2020-04-13  Mon       4092       156363  ...  actual  60461828.0  Europe\n",
              "2020-04-14  Tue       3153       159516  ...  actual  60461828.0  Europe\n",
              "2020-04-15  Wed       2972       162488  ...  actual  60461828.0  Europe\n",
              "2020-04-16  Thu       2667       165155  ...  actual  60461828.0  Europe\n",
              "\n",
              "[7 rows x 14 columns]"
            ]
          },
          "metadata": {
            "tags": []
          },
          "execution_count": 18
        }
      ]
    },
    {
      "cell_type": "code",
      "metadata": {
        "id": "lySiIgiFStlO",
        "colab_type": "code",
        "outputId": "17ff7bb5-b817-4fe5-be74-6600d869db4d",
        "colab": {
          "base_uri": "https://localhost:8080/",
          "height": 33
        }
      },
      "source": [
        "days_back = 21\n",
        "target = 0.7\n",
        "repros= Italy_Cov[Italy_Cov['source']=='actual'].repro_number-target\n",
        "repros.pct_change().tail(days_back).mean()"
      ],
      "execution_count": 19,
      "outputs": [
        {
          "output_type": "execute_result",
          "data": {
            "text/plain": [
              "-0.34054657760509044"
            ]
          },
          "metadata": {
            "tags": []
          },
          "execution_count": 19
        }
      ]
    },
    {
      "cell_type": "code",
      "metadata": {
        "id": "Pq9IdvydI0GX",
        "colab_type": "code",
        "outputId": "6c781090-2c03-4642-cb1a-33422b2fa8c6",
        "colab": {
          "base_uri": "https://localhost:8080/",
          "height": 283
        }
      },
      "source": [
        "Italy_Cov = forecast(Italy_Cov, 100, repro_move=[0.7, 0.3])\n",
        "plot_cdr(Italy_Cov, 'Covid in Italy')"
      ],
      "execution_count": 20,
      "outputs": [
        {
          "output_type": "display_data",
          "data": {
            "image/png": "[encoded data removed]",
            "text/plain": [
              "<Figure size 432x288 with 2 Axes>"
            ]
          },
          "metadata": {
            "tags": [],
            "needs_background": "light"
          }
        }
      ]
    },
    {
      "cell_type": "markdown",
      "metadata": {
        "id": "Jk_JLIIHf3sv",
        "colab_type": "text"
      },
      "source": [
        "### Sweden"
      ]
    },
    {
      "cell_type": "code",
      "metadata": {
        "id": "j3xTXqoPf6U8",
        "colab_type": "code",
        "outputId": "ddd5b74e-bd96-45ef-ad36-c61c7b8f0ae9",
        "colab": {
          "base_uri": "https://localhost:8080/",
          "height": 248
        }
      },
      "source": [
        "Sweden_Cov = df[df['total_cases']>1000].loc['Sweden']\n",
        "Sweden_Cov[Sweden_Cov['source']=='actual'].tail(7)"
      ],
      "execution_count": 21,
      "outputs": [
        {
          "output_type": "execute_result",
          "data": {
            "text/html": [
              "<div>\n",
              "<style scoped>\n",
              "    .dataframe tbody tr th:only-of-type {\n",
              "        vertical-align: middle;\n",
              "    }\n",
              "\n",
              "    .dataframe tbody tr th {\n",
              "        vertical-align: top;\n",
              "    }\n",
              "\n",
              "    .dataframe thead th {\n",
              "        text-align: right;\n",
              "    }\n",
              "</style>\n",
              "<table border=\"1\" class=\"dataframe\">\n",
              "  <thead>\n",
              "    <tr style=\"text-align: right;\">\n",
              "      <th></th>\n",
              "      <th>day</th>\n",
              "      <th>new_cases</th>\n",
              "      <th>total_cases</th>\n",
              "      <th>cases_pct_of_pop</th>\n",
              "      <th>new_deaths</th>\n",
              "      <th>total_deaths</th>\n",
              "      <th>fatality</th>\n",
              "      <th>contagious</th>\n",
              "      <th>repro_number</th>\n",
              "      <th>growth</th>\n",
              "      <th>days_to_dbl</th>\n",
              "      <th>source</th>\n",
              "      <th>population</th>\n",
              "      <th>region</th>\n",
              "    </tr>\n",
              "  </thead>\n",
              "  <tbody>\n",
              "    <tr>\n",
              "      <th>2020-04-10</th>\n",
              "      <td>Fri</td>\n",
              "      <td>722</td>\n",
              "      <td>9141</td>\n",
              "      <td>0.090511</td>\n",
              "      <td>106</td>\n",
              "      <td>793</td>\n",
              "      <td>0.086752</td>\n",
              "      <td>6335.0</td>\n",
              "      <td>1.595580</td>\n",
              "      <td>0.082279</td>\n",
              "      <td>8.424378</td>\n",
              "      <td>actual</td>\n",
              "      <td>10099270.0</td>\n",
              "      <td>Europe</td>\n",
              "    </tr>\n",
              "    <tr>\n",
              "      <th>2020-04-11</th>\n",
              "      <td>Sat</td>\n",
              "      <td>544</td>\n",
              "      <td>9685</td>\n",
              "      <td>0.095898</td>\n",
              "      <td>77</td>\n",
              "      <td>870</td>\n",
              "      <td>0.089830</td>\n",
              "      <td>6639.0</td>\n",
              "      <td>1.147161</td>\n",
              "      <td>0.057809</td>\n",
              "      <td>11.990401</td>\n",
              "      <td>actual</td>\n",
              "      <td>10099270.0</td>\n",
              "      <td>Europe</td>\n",
              "    </tr>\n",
              "    <tr>\n",
              "      <th>2020-04-12</th>\n",
              "      <td>Sun</td>\n",
              "      <td>466</td>\n",
              "      <td>10151</td>\n",
              "      <td>0.100512</td>\n",
              "      <td>17</td>\n",
              "      <td>887</td>\n",
              "      <td>0.087381</td>\n",
              "      <td>6704.0</td>\n",
              "      <td>0.973150</td>\n",
              "      <td>0.046994</td>\n",
              "      <td>14.749719</td>\n",
              "      <td>actual</td>\n",
              "      <td>10099270.0</td>\n",
              "      <td>Europe</td>\n",
              "    </tr>\n",
              "    <tr>\n",
              "      <th>2020-04-13</th>\n",
              "      <td>Mon</td>\n",
              "      <td>332</td>\n",
              "      <td>10483</td>\n",
              "      <td>0.103800</td>\n",
              "      <td>12</td>\n",
              "      <td>899</td>\n",
              "      <td>0.085758</td>\n",
              "      <td>6783.0</td>\n",
              "      <td>0.685243</td>\n",
              "      <td>0.032183</td>\n",
              "      <td>21.537899</td>\n",
              "      <td>actual</td>\n",
              "      <td>10099270.0</td>\n",
              "      <td>Europe</td>\n",
              "    </tr>\n",
              "    <tr>\n",
              "      <th>2020-04-14</th>\n",
              "      <td>Tue</td>\n",
              "      <td>465</td>\n",
              "      <td>10948</td>\n",
              "      <td>0.108404</td>\n",
              "      <td>20</td>\n",
              "      <td>919</td>\n",
              "      <td>0.083942</td>\n",
              "      <td>6920.0</td>\n",
              "      <td>0.940751</td>\n",
              "      <td>0.043402</td>\n",
              "      <td>15.970436</td>\n",
              "      <td>actual</td>\n",
              "      <td>10099270.0</td>\n",
              "      <td>Europe</td>\n",
              "    </tr>\n",
              "    <tr>\n",
              "      <th>2020-04-15</th>\n",
              "      <td>Wed</td>\n",
              "      <td>497</td>\n",
              "      <td>11445</td>\n",
              "      <td>0.113325</td>\n",
              "      <td>114</td>\n",
              "      <td>1033</td>\n",
              "      <td>0.090258</td>\n",
              "      <td>7010.0</td>\n",
              "      <td>0.992582</td>\n",
              "      <td>0.044396</td>\n",
              "      <td>15.612772</td>\n",
              "      <td>actual</td>\n",
              "      <td>10099270.0</td>\n",
              "      <td>Europe</td>\n",
              "    </tr>\n",
              "    <tr>\n",
              "      <th>2020-04-16</th>\n",
              "      <td>Thu</td>\n",
              "      <td>482</td>\n",
              "      <td>11927</td>\n",
              "      <td>0.118098</td>\n",
              "      <td>170</td>\n",
              "      <td>1203</td>\n",
              "      <td>0.100864</td>\n",
              "      <td>6980.0</td>\n",
              "      <td>0.966762</td>\n",
              "      <td>0.041252</td>\n",
              "      <td>16.802841</td>\n",
              "      <td>actual</td>\n",
              "      <td>10099270.0</td>\n",
              "      <td>Europe</td>\n",
              "    </tr>\n",
              "  </tbody>\n",
              "</table>\n",
              "</div>"
            ],
            "text/plain": [
              "            day  new_cases  total_cases  ...  source  population  region\n",
              "2020-04-10  Fri        722         9141  ...  actual  10099270.0  Europe\n",
              "2020-04-11  Sat        544         9685  ...  actual  10099270.0  Europe\n",
              "2020-04-12  Sun        466        10151  ...  actual  10099270.0  Europe\n",
              "2020-04-13  Mon        332        10483  ...  actual  10099270.0  Europe\n",
              "2020-04-14  Tue        465        10948  ...  actual  10099270.0  Europe\n",
              "2020-04-15  Wed        497        11445  ...  actual  10099270.0  Europe\n",
              "2020-04-16  Thu        482        11927  ...  actual  10099270.0  Europe\n",
              "\n",
              "[7 rows x 14 columns]"
            ]
          },
          "metadata": {
            "tags": []
          },
          "execution_count": 21
        }
      ]
    },
    {
      "cell_type": "code",
      "metadata": {
        "id": "ayQ7oDhFgOCl",
        "colab_type": "code",
        "outputId": "3208dc68-1dae-40f8-8b86-9144b59005d2",
        "colab": {
          "base_uri": "https://localhost:8080/",
          "height": 33
        }
      },
      "source": [
        "days_back = 14\n",
        "target = 0.7\n",
        "repros= Sweden_Cov[Sweden_Cov['source']=='actual'].repro_number-target\n",
        "repros.pct_change().tail(days_back).mean()"
      ],
      "execution_count": 22,
      "outputs": [
        {
          "output_type": "execute_result",
          "data": {
            "text/plain": [
              "-1.3238109419401813"
            ]
          },
          "metadata": {
            "tags": []
          },
          "execution_count": 22
        }
      ]
    },
    {
      "cell_type": "code",
      "metadata": {
        "id": "-zYiWkynhERX",
        "colab_type": "code",
        "outputId": "80a4ac47-75c3-47a4-c76c-c0d8e08dba28",
        "colab": {
          "base_uri": "https://localhost:8080/",
          "height": 283
        }
      },
      "source": [
        "Sweden_Cov = forecast(Sweden_Cov, 100, repro_move=[0.7, 0.3])\n",
        "plot_cdr(Sweden_Cov, 'Covid in Sweden')"
      ],
      "execution_count": 23,
      "outputs": [
        {
          "output_type": "display_data",
          "data": {
            "image/png": "[encoded data removed]",
            "text/plain": [
              "<Figure size 432x288 with 2 Axes>"
            ]
          },
          "metadata": {
            "tags": [],
            "needs_background": "light"
          }
        }
      ]
    },
    {
      "cell_type": "code",
      "metadata": {
        "id": "bIDSB_jWMRbt",
        "colab_type": "code",
        "outputId": "f3b85a3a-d280-4eb9-c9e5-981aac5f9fe9",
        "colab": {
          "base_uri": "https://localhost:8080/",
          "height": 301
        }
      },
      "source": [
        "plot_growth(df[df['source']=='actual'], \n",
        "            ['Sweden','Denmark','Norway','Netherlands'], \n",
        "            title='Total Cases: Sweden and Neighbors',logy=True, \n",
        "            min_count=100, column='total_cases')"
      ],
      "execution_count": 24,
      "outputs": [
        {
          "output_type": "display_data",
          "data": {
            "image/png": "[encoded data removed]",
            "text/plain": [
              "<Figure size 432x288 with 1 Axes>"
            ]
          },
          "metadata": {
            "tags": [],
            "needs_background": "light"
          }
        }
      ]
    },
    {
      "cell_type": "markdown",
      "metadata": {
        "id": "sQDtAyhFMOdN",
        "colab_type": "text"
      },
      "source": [
        "## The World, Country and Regional Comparisons"
      ]
    },
    {
      "cell_type": "code",
      "metadata": {
        "id": "YdlnDO2HT1ZQ",
        "colab_type": "code",
        "outputId": "4b3810db-dfa1-417d-d004-b9b32e02e072",
        "colab": {
          "base_uri": "https://localhost:8080/",
          "height": 248
        }
      },
      "source": [
        "World_Cov = df.copy()\n",
        "World_Cov = World_Cov[['new_cases','total_cases','new_deaths',\n",
        "                       'total_deaths','population']].groupby(level=1).sum()\n",
        "World_Cov['location']='world'\n",
        "World_Cov.reset_index(inplace=True)\n",
        "World_Cov.rename(columns = {'index':'date'}, inplace = True) \n",
        "World_Cov = munge_data(World_Cov, case_start=10, contagious_days=14)\n",
        "World_Cov = order_columns(World_Cov).loc['world']\n",
        "World_Cov[World_Cov['source']=='actual'].tail(7)"
      ],
      "execution_count": 25,
      "outputs": [
        {
          "output_type": "execute_result",
          "data": {
            "text/html": [
              "<div>\n",
              "<style scoped>\n",
              "    .dataframe tbody tr th:only-of-type {\n",
              "        vertical-align: middle;\n",
              "    }\n",
              "\n",
              "    .dataframe tbody tr th {\n",
              "        vertical-align: top;\n",
              "    }\n",
              "\n",
              "    .dataframe thead th {\n",
              "        text-align: right;\n",
              "    }\n",
              "</style>\n",
              "<table border=\"1\" class=\"dataframe\">\n",
              "  <thead>\n",
              "    <tr style=\"text-align: right;\">\n",
              "      <th></th>\n",
              "      <th>day</th>\n",
              "      <th>new_cases</th>\n",
              "      <th>total_cases</th>\n",
              "      <th>cases_pct_of_pop</th>\n",
              "      <th>new_deaths</th>\n",
              "      <th>total_deaths</th>\n",
              "      <th>fatality</th>\n",
              "      <th>contagious</th>\n",
              "      <th>repro_number</th>\n",
              "      <th>growth</th>\n",
              "      <th>days_to_dbl</th>\n",
              "      <th>source</th>\n",
              "      <th>population</th>\n",
              "      <th>region</th>\n",
              "    </tr>\n",
              "  </thead>\n",
              "  <tbody>\n",
              "    <tr>\n",
              "      <th>2020-04-10</th>\n",
              "      <td>Fri</td>\n",
              "      <td>87039</td>\n",
              "      <td>1563161</td>\n",
              "      <td>0.020202</td>\n",
              "      <td>7223</td>\n",
              "      <td>95032</td>\n",
              "      <td>0.060795</td>\n",
              "      <td>1036090.0</td>\n",
              "      <td>1.176101</td>\n",
              "      <td>0.057292</td>\n",
              "      <td>12.098567</td>\n",
              "      <td>actual</td>\n",
              "      <td>7.737500e+09</td>\n",
              "      <td>NaN</td>\n",
              "    </tr>\n",
              "    <tr>\n",
              "      <th>2020-04-11</th>\n",
              "      <td>Sat</td>\n",
              "      <td>89349</td>\n",
              "      <td>1652510</td>\n",
              "      <td>0.021357</td>\n",
              "      <td>7049</td>\n",
              "      <td>102081</td>\n",
              "      <td>0.061773</td>\n",
              "      <td>1061516.0</td>\n",
              "      <td>1.178396</td>\n",
              "      <td>0.055585</td>\n",
              "      <td>12.469975</td>\n",
              "      <td>actual</td>\n",
              "      <td>7.737500e+09</td>\n",
              "      <td>NaN</td>\n",
              "    </tr>\n",
              "    <tr>\n",
              "      <th>2020-04-12</th>\n",
              "      <td>Sun</td>\n",
              "      <td>81707</td>\n",
              "      <td>1734217</td>\n",
              "      <td>0.022413</td>\n",
              "      <td>6104</td>\n",
              "      <td>108185</td>\n",
              "      <td>0.062383</td>\n",
              "      <td>1078045.0</td>\n",
              "      <td>1.061086</td>\n",
              "      <td>0.048261</td>\n",
              "      <td>14.362568</td>\n",
              "      <td>actual</td>\n",
              "      <td>7.737500e+09</td>\n",
              "      <td>NaN</td>\n",
              "    </tr>\n",
              "    <tr>\n",
              "      <th>2020-04-13</th>\n",
              "      <td>Mon</td>\n",
              "      <td>72390</td>\n",
              "      <td>1806607</td>\n",
              "      <td>0.023349</td>\n",
              "      <td>5321</td>\n",
              "      <td>113506</td>\n",
              "      <td>0.062828</td>\n",
              "      <td>1091945.0</td>\n",
              "      <td>0.928124</td>\n",
              "      <td>0.040894</td>\n",
              "      <td>16.949649</td>\n",
              "      <td>actual</td>\n",
              "      <td>7.737500e+09</td>\n",
              "      <td>NaN</td>\n",
              "    </tr>\n",
              "    <tr>\n",
              "      <th>2020-04-14</th>\n",
              "      <td>Tue</td>\n",
              "      <td>65962</td>\n",
              "      <td>1872569</td>\n",
              "      <td>0.024201</td>\n",
              "      <td>5339</td>\n",
              "      <td>118845</td>\n",
              "      <td>0.063466</td>\n",
              "      <td>1096224.0</td>\n",
              "      <td>0.842408</td>\n",
              "      <td>0.035861</td>\n",
              "      <td>19.328835</td>\n",
              "      <td>actual</td>\n",
              "      <td>7.737500e+09</td>\n",
              "      <td>NaN</td>\n",
              "    </tr>\n",
              "    <tr>\n",
              "      <th>2020-04-15</th>\n",
              "      <td>Wed</td>\n",
              "      <td>75246</td>\n",
              "      <td>1947815</td>\n",
              "      <td>0.025174</td>\n",
              "      <td>7114</td>\n",
              "      <td>125959</td>\n",
              "      <td>0.064667</td>\n",
              "      <td>1097175.0</td>\n",
              "      <td>0.960142</td>\n",
              "      <td>0.039397</td>\n",
              "      <td>17.593931</td>\n",
              "      <td>actual</td>\n",
              "      <td>7.737500e+09</td>\n",
              "      <td>NaN</td>\n",
              "    </tr>\n",
              "    <tr>\n",
              "      <th>2020-04-16</th>\n",
              "      <td>Thu</td>\n",
              "      <td>81419</td>\n",
              "      <td>2029234</td>\n",
              "      <td>0.026226</td>\n",
              "      <td>10354</td>\n",
              "      <td>136313</td>\n",
              "      <td>0.067175</td>\n",
              "      <td>1101440.0</td>\n",
              "      <td>1.034887</td>\n",
              "      <td>0.040950</td>\n",
              "      <td>16.926609</td>\n",
              "      <td>actual</td>\n",
              "      <td>7.737500e+09</td>\n",
              "      <td>NaN</td>\n",
              "    </tr>\n",
              "  </tbody>\n",
              "</table>\n",
              "</div>"
            ],
            "text/plain": [
              "            day  new_cases  total_cases  ...  source    population  region\n",
              "2020-04-10  Fri      87039      1563161  ...  actual  7.737500e+09     NaN\n",
              "2020-04-11  Sat      89349      1652510  ...  actual  7.737500e+09     NaN\n",
              "2020-04-12  Sun      81707      1734217  ...  actual  7.737500e+09     NaN\n",
              "2020-04-13  Mon      72390      1806607  ...  actual  7.737500e+09     NaN\n",
              "2020-04-14  Tue      65962      1872569  ...  actual  7.737500e+09     NaN\n",
              "2020-04-15  Wed      75246      1947815  ...  actual  7.737500e+09     NaN\n",
              "2020-04-16  Thu      81419      2029234  ...  actual  7.737500e+09     NaN\n",
              "\n",
              "[7 rows x 14 columns]"
            ]
          },
          "metadata": {
            "tags": []
          },
          "execution_count": 25
        }
      ]
    },
    {
      "cell_type": "code",
      "metadata": {
        "id": "g0zKjJypb2_u",
        "colab_type": "code",
        "outputId": "14ddf029-8cb4-489e-e77b-b91418e55a52",
        "colab": {
          "base_uri": "https://localhost:8080/",
          "height": 283
        }
      },
      "source": [
        "plot_cdr(World_Cov[World_Cov['source']=='actual'][-60:], \n",
        "         'Covid World Wide','W')"
      ],
      "execution_count": 26,
      "outputs": [
        {
          "output_type": "display_data",
          "data": {
            "image/png": "[encoded data removed]",
            "text/plain": [
              "<Figure size 432x288 with 2 Axes>"
            ]
          },
          "metadata": {
            "tags": [],
            "needs_background": "light"
          }
        }
      ]
    },
    {
      "cell_type": "code",
      "metadata": {
        "colab_type": "code",
        "outputId": "531119f8-9804-40e6-d62b-e8b29ee7da8e",
        "id": "q3XYSvipXGEx",
        "colab": {
          "base_uri": "https://localhost:8080/",
          "height": 363
        }
      },
      "source": [
        "df[df['source']=='actual'].groupby('location')[['growth','days_to_dbl']]\\\n",
        "    .last().sort_values('growth',ascending=False).head(10)"
      ],
      "execution_count": 27,
      "outputs": [
        {
          "output_type": "execute_result",
          "data": {
            "text/html": [
              "<div>\n",
              "<style scoped>\n",
              "    .dataframe tbody tr th:only-of-type {\n",
              "        vertical-align: middle;\n",
              "    }\n",
              "\n",
              "    .dataframe tbody tr th {\n",
              "        vertical-align: top;\n",
              "    }\n",
              "\n",
              "    .dataframe thead th {\n",
              "        text-align: right;\n",
              "    }\n",
              "</style>\n",
              "<table border=\"1\" class=\"dataframe\">\n",
              "  <thead>\n",
              "    <tr style=\"text-align: right;\">\n",
              "      <th></th>\n",
              "      <th>growth</th>\n",
              "      <th>days_to_dbl</th>\n",
              "    </tr>\n",
              "    <tr>\n",
              "      <th>location</th>\n",
              "      <th></th>\n",
              "      <th></th>\n",
              "    </tr>\n",
              "  </thead>\n",
              "  <tbody>\n",
              "    <tr>\n",
              "      <th>Cape Verde</th>\n",
              "      <td>1.609438</td>\n",
              "      <td>0.430677</td>\n",
              "    </tr>\n",
              "    <tr>\n",
              "      <th>Tanzania</th>\n",
              "      <td>0.507045</td>\n",
              "      <td>1.367033</td>\n",
              "    </tr>\n",
              "    <tr>\n",
              "      <th>Congo</th>\n",
              "      <td>0.458109</td>\n",
              "      <td>1.513062</td>\n",
              "    </tr>\n",
              "    <tr>\n",
              "      <th>Bermuda</th>\n",
              "      <td>0.351398</td>\n",
              "      <td>1.972542</td>\n",
              "    </tr>\n",
              "    <tr>\n",
              "      <th>Libya</th>\n",
              "      <td>0.315853</td>\n",
              "      <td>2.194525</td>\n",
              "    </tr>\n",
              "    <tr>\n",
              "      <th>Zimbabwe</th>\n",
              "      <td>0.302281</td>\n",
              "      <td>2.293057</td>\n",
              "    </tr>\n",
              "    <tr>\n",
              "      <th>Somalia</th>\n",
              "      <td>0.287682</td>\n",
              "      <td>2.409421</td>\n",
              "    </tr>\n",
              "    <tr>\n",
              "      <th>Equatorial Guinea</th>\n",
              "      <td>0.218254</td>\n",
              "      <td>3.175880</td>\n",
              "    </tr>\n",
              "    <tr>\n",
              "      <th>Ukraine</th>\n",
              "      <td>0.210249</td>\n",
              "      <td>3.296786</td>\n",
              "    </tr>\n",
              "    <tr>\n",
              "      <th>Bangladesh</th>\n",
              "      <td>0.195898</td>\n",
              "      <td>3.538302</td>\n",
              "    </tr>\n",
              "  </tbody>\n",
              "</table>\n",
              "</div>"
            ],
            "text/plain": [
              "                     growth  days_to_dbl\n",
              "location                                \n",
              "Cape Verde         1.609438     0.430677\n",
              "Tanzania           0.507045     1.367033\n",
              "Congo              0.458109     1.513062\n",
              "Bermuda            0.351398     1.972542\n",
              "Libya              0.315853     2.194525\n",
              "Zimbabwe           0.302281     2.293057\n",
              "Somalia            0.287682     2.409421\n",
              "Equatorial Guinea  0.218254     3.175880\n",
              "Ukraine            0.210249     3.296786\n",
              "Bangladesh         0.195898     3.538302"
            ]
          },
          "metadata": {
            "tags": []
          },
          "execution_count": 27
        }
      ]
    },
    {
      "cell_type": "code",
      "metadata": {
        "id": "pkCFslRc-okd",
        "colab_type": "code",
        "outputId": "aefc26df-a2d3-4a5b-8da7-c73f55a3eb5e",
        "colab": {
          "base_uri": "https://localhost:8080/",
          "height": 248
        }
      },
      "source": [
        "df[df['source']=='actual'].groupby('location')[['region','total_cases']]\\\n",
        "    .last().groupby('region').sum()\\\n",
        "    .sort_values('total_cases',ascending=False)"
      ],
      "execution_count": 28,
      "outputs": [
        {
          "output_type": "execute_result",
          "data": {
            "text/html": [
              "<div>\n",
              "<style scoped>\n",
              "    .dataframe tbody tr th:only-of-type {\n",
              "        vertical-align: middle;\n",
              "    }\n",
              "\n",
              "    .dataframe tbody tr th {\n",
              "        vertical-align: top;\n",
              "    }\n",
              "\n",
              "    .dataframe thead th {\n",
              "        text-align: right;\n",
              "    }\n",
              "</style>\n",
              "<table border=\"1\" class=\"dataframe\">\n",
              "  <thead>\n",
              "    <tr style=\"text-align: right;\">\n",
              "      <th></th>\n",
              "      <th>total_cases</th>\n",
              "    </tr>\n",
              "    <tr>\n",
              "      <th>region</th>\n",
              "      <th></th>\n",
              "    </tr>\n",
              "  </thead>\n",
              "  <tbody>\n",
              "    <tr>\n",
              "      <th>Europe</th>\n",
              "      <td>923265</td>\n",
              "    </tr>\n",
              "    <tr>\n",
              "      <th>North America</th>\n",
              "      <td>685366</td>\n",
              "    </tr>\n",
              "    <tr>\n",
              "      <th>Asia</th>\n",
              "      <td>332689</td>\n",
              "    </tr>\n",
              "    <tr>\n",
              "      <th>South America</th>\n",
              "      <td>62890</td>\n",
              "    </tr>\n",
              "    <tr>\n",
              "      <th>Africa</th>\n",
              "      <td>17243</td>\n",
              "    </tr>\n",
              "    <tr>\n",
              "      <th>Oceania</th>\n",
              "      <td>7781</td>\n",
              "    </tr>\n",
              "  </tbody>\n",
              "</table>\n",
              "</div>"
            ],
            "text/plain": [
              "               total_cases\n",
              "region                    \n",
              "Europe              923265\n",
              "North America       685366\n",
              "Asia                332689\n",
              "South America        62890\n",
              "Africa               17243\n",
              "Oceania               7781"
            ]
          },
          "metadata": {
            "tags": []
          },
          "execution_count": 28
        }
      ]
    },
    {
      "cell_type": "code",
      "metadata": {
        "id": "DwBAfpvFKULr",
        "colab_type": "code",
        "outputId": "3e4e78f9-7f8a-43bd-9521-1bd31ce32316",
        "colab": {
          "base_uri": "https://localhost:8080/",
          "height": 191
        }
      },
      "source": [
        "top5 = df[df['source']=='actual']\\\n",
        "    .groupby('location')[['total_cases','repro_number']]\\\n",
        "    .last().sort_values('total_cases', ascending=False).head(5).reset_index()\n",
        "top5.index += 1\n",
        "top5"
      ],
      "execution_count": 29,
      "outputs": [
        {
          "output_type": "execute_result",
          "data": {
            "text/html": [
              "<div>\n",
              "<style scoped>\n",
              "    .dataframe tbody tr th:only-of-type {\n",
              "        vertical-align: middle;\n",
              "    }\n",
              "\n",
              "    .dataframe tbody tr th {\n",
              "        vertical-align: top;\n",
              "    }\n",
              "\n",
              "    .dataframe thead th {\n",
              "        text-align: right;\n",
              "    }\n",
              "</style>\n",
              "<table border=\"1\" class=\"dataframe\">\n",
              "  <thead>\n",
              "    <tr style=\"text-align: right;\">\n",
              "      <th></th>\n",
              "      <th>location</th>\n",
              "      <th>total_cases</th>\n",
              "      <th>repro_number</th>\n",
              "    </tr>\n",
              "  </thead>\n",
              "  <tbody>\n",
              "    <tr>\n",
              "      <th>1</th>\n",
              "      <td>United States</td>\n",
              "      <td>639664</td>\n",
              "      <td>0.997941</td>\n",
              "    </tr>\n",
              "    <tr>\n",
              "      <th>2</th>\n",
              "      <td>Spain</td>\n",
              "      <td>177633</td>\n",
              "      <td>0.944249</td>\n",
              "    </tr>\n",
              "    <tr>\n",
              "      <th>3</th>\n",
              "      <td>Italy</td>\n",
              "      <td>165155</td>\n",
              "      <td>0.684084</td>\n",
              "    </tr>\n",
              "    <tr>\n",
              "      <th>4</th>\n",
              "      <td>Germany</td>\n",
              "      <td>130450</td>\n",
              "      <td>0.704820</td>\n",
              "    </tr>\n",
              "    <tr>\n",
              "      <th>5</th>\n",
              "      <td>France</td>\n",
              "      <td>106206</td>\n",
              "      <td>0.748969</td>\n",
              "    </tr>\n",
              "  </tbody>\n",
              "</table>\n",
              "</div>"
            ],
            "text/plain": [
              "        location  total_cases  repro_number\n",
              "1  United States       639664      0.997941\n",
              "2          Spain       177633      0.944249\n",
              "3          Italy       165155      0.684084\n",
              "4        Germany       130450      0.704820\n",
              "5         France       106206      0.748969"
            ]
          },
          "metadata": {
            "tags": []
          },
          "execution_count": 29
        }
      ]
    },
    {
      "cell_type": "code",
      "metadata": {
        "id": "OZzvge4olTDX",
        "colab_type": "code",
        "outputId": "424896fd-006b-4d4e-d7da-3e23b91ebd02",
        "colab": {
          "base_uri": "https://localhost:8080/",
          "height": 301
        }
      },
      "source": [
        "plot_growth(df[df['source']=='actual'], \n",
        "            top5['location'].append(pd.Series('China', index=[6])), \n",
        "            title='Total Cases: Top 5 + China',logy=True, \n",
        "            min_count=100, column='total_cases')"
      ],
      "execution_count": 30,
      "outputs": [
        {
          "output_type": "display_data",
          "data": {
            "image/png": "[encoded data removed]",
            "text/plain": [
              "<Figure size 432x288 with 1 Axes>"
            ]
          },
          "metadata": {
            "tags": [],
            "needs_background": "light"
          }
        }
      ]
    },
    {
      "cell_type": "markdown",
      "metadata": {
        "id": "3eD-pOqJRum-",
        "colab_type": "text"
      },
      "source": [
        "## U.S. States"
      ]
    },
    {
      "cell_type": "markdown",
      "metadata": {
        "id": "vi7gRHzSRlaR",
        "colab_type": "text"
      },
      "source": [
        "### Oklahoma"
      ]
    },
    {
      "cell_type": "code",
      "metadata": {
        "id": "vKYXdJ3AovYL",
        "colab_type": "code",
        "outputId": "11bb190e-8075-46d0-d92c-a3711332e209",
        "colab": {
          "base_uri": "https://localhost:8080/",
          "height": 248
        }
      },
      "source": [
        "OK_Cov = df_states[df_states['total_cases']>10].loc['Oklahoma']\n",
        "OK_Cov[OK_Cov['source']=='actual'].tail(7)"
      ],
      "execution_count": 31,
      "outputs": [
        {
          "output_type": "execute_result",
          "data": {
            "text/html": [
              "<div>\n",
              "<style scoped>\n",
              "    .dataframe tbody tr th:only-of-type {\n",
              "        vertical-align: middle;\n",
              "    }\n",
              "\n",
              "    .dataframe tbody tr th {\n",
              "        vertical-align: top;\n",
              "    }\n",
              "\n",
              "    .dataframe thead th {\n",
              "        text-align: right;\n",
              "    }\n",
              "</style>\n",
              "<table border=\"1\" class=\"dataframe\">\n",
              "  <thead>\n",
              "    <tr style=\"text-align: right;\">\n",
              "      <th></th>\n",
              "      <th>day</th>\n",
              "      <th>new_cases</th>\n",
              "      <th>total_cases</th>\n",
              "      <th>cases_pct_of_pop</th>\n",
              "      <th>new_deaths</th>\n",
              "      <th>total_deaths</th>\n",
              "      <th>fatality</th>\n",
              "      <th>contagious</th>\n",
              "      <th>repro_number</th>\n",
              "      <th>growth</th>\n",
              "      <th>days_to_dbl</th>\n",
              "      <th>source</th>\n",
              "      <th>population</th>\n",
              "      <th>region</th>\n",
              "    </tr>\n",
              "  </thead>\n",
              "  <tbody>\n",
              "    <tr>\n",
              "      <th>2020-04-09</th>\n",
              "      <td>Thu</td>\n",
              "      <td>160.0</td>\n",
              "      <td>1684</td>\n",
              "      <td>0.042558</td>\n",
              "      <td>1.0</td>\n",
              "      <td>80</td>\n",
              "      <td>0.047506</td>\n",
              "      <td>1436.0</td>\n",
              "      <td>1.559889</td>\n",
              "      <td>0.099833</td>\n",
              "      <td>6.943035</td>\n",
              "      <td>actual</td>\n",
              "      <td>3956971</td>\n",
              "      <td>NA</td>\n",
              "    </tr>\n",
              "    <tr>\n",
              "      <th>2020-04-10</th>\n",
              "      <td>Fri</td>\n",
              "      <td>110.0</td>\n",
              "      <td>1794</td>\n",
              "      <td>0.045338</td>\n",
              "      <td>8.0</td>\n",
              "      <td>88</td>\n",
              "      <td>0.049052</td>\n",
              "      <td>1472.0</td>\n",
              "      <td>1.046196</td>\n",
              "      <td>0.063276</td>\n",
              "      <td>10.954372</td>\n",
              "      <td>actual</td>\n",
              "      <td>3956971</td>\n",
              "      <td>NA</td>\n",
              "    </tr>\n",
              "    <tr>\n",
              "      <th>2020-04-11</th>\n",
              "      <td>Sat</td>\n",
              "      <td>74.0</td>\n",
              "      <td>1868</td>\n",
              "      <td>0.047208</td>\n",
              "      <td>5.0</td>\n",
              "      <td>93</td>\n",
              "      <td>0.049786</td>\n",
              "      <td>1491.0</td>\n",
              "      <td>0.694836</td>\n",
              "      <td>0.040421</td>\n",
              "      <td>17.148375</td>\n",
              "      <td>actual</td>\n",
              "      <td>3956971</td>\n",
              "      <td>NA</td>\n",
              "    </tr>\n",
              "    <tr>\n",
              "      <th>2020-04-12</th>\n",
              "      <td>Sun</td>\n",
              "      <td>102.0</td>\n",
              "      <td>1970</td>\n",
              "      <td>0.049786</td>\n",
              "      <td>3.0</td>\n",
              "      <td>96</td>\n",
              "      <td>0.048731</td>\n",
              "      <td>1541.0</td>\n",
              "      <td>0.926671</td>\n",
              "      <td>0.053165</td>\n",
              "      <td>13.037610</td>\n",
              "      <td>actual</td>\n",
              "      <td>3956971</td>\n",
              "      <td>NA</td>\n",
              "    </tr>\n",
              "    <tr>\n",
              "      <th>2020-04-13</th>\n",
              "      <td>Mon</td>\n",
              "      <td>99.0</td>\n",
              "      <td>2069</td>\n",
              "      <td>0.052287</td>\n",
              "      <td>2.0</td>\n",
              "      <td>98</td>\n",
              "      <td>0.047366</td>\n",
              "      <td>1588.0</td>\n",
              "      <td>0.872796</td>\n",
              "      <td>0.049032</td>\n",
              "      <td>14.136670</td>\n",
              "      <td>actual</td>\n",
              "      <td>3956971</td>\n",
              "      <td>NA</td>\n",
              "    </tr>\n",
              "    <tr>\n",
              "      <th>2020-04-14</th>\n",
              "      <td>Tue</td>\n",
              "      <td>115.0</td>\n",
              "      <td>2184</td>\n",
              "      <td>0.055194</td>\n",
              "      <td>11.0</td>\n",
              "      <td>109</td>\n",
              "      <td>0.049908</td>\n",
              "      <td>1618.0</td>\n",
              "      <td>0.995056</td>\n",
              "      <td>0.054093</td>\n",
              "      <td>12.814071</td>\n",
              "      <td>actual</td>\n",
              "      <td>3956971</td>\n",
              "      <td>NA</td>\n",
              "    </tr>\n",
              "    <tr>\n",
              "      <th>2020-04-15</th>\n",
              "      <td>Wed</td>\n",
              "      <td>79.0</td>\n",
              "      <td>2263</td>\n",
              "      <td>0.057190</td>\n",
              "      <td>14.0</td>\n",
              "      <td>123</td>\n",
              "      <td>0.054353</td>\n",
              "      <td>1544.0</td>\n",
              "      <td>0.716321</td>\n",
              "      <td>0.035533</td>\n",
              "      <td>19.506970</td>\n",
              "      <td>actual</td>\n",
              "      <td>3956971</td>\n",
              "      <td>NA</td>\n",
              "    </tr>\n",
              "  </tbody>\n",
              "</table>\n",
              "</div>"
            ],
            "text/plain": [
              "            day  new_cases  total_cases  ...  source  population  region\n",
              "2020-04-09  Thu      160.0         1684  ...  actual     3956971      NA\n",
              "2020-04-10  Fri      110.0         1794  ...  actual     3956971      NA\n",
              "2020-04-11  Sat       74.0         1868  ...  actual     3956971      NA\n",
              "2020-04-12  Sun      102.0         1970  ...  actual     3956971      NA\n",
              "2020-04-13  Mon       99.0         2069  ...  actual     3956971      NA\n",
              "2020-04-14  Tue      115.0         2184  ...  actual     3956971      NA\n",
              "2020-04-15  Wed       79.0         2263  ...  actual     3956971      NA\n",
              "\n",
              "[7 rows x 14 columns]"
            ]
          },
          "metadata": {
            "tags": []
          },
          "execution_count": 31
        }
      ]
    },
    {
      "cell_type": "code",
      "metadata": {
        "id": "7lh01KczQ-Pl",
        "colab_type": "code",
        "outputId": "9061fce4-5517-47dc-9184-21898905303d",
        "colab": {
          "base_uri": "https://localhost:8080/",
          "height": 33
        }
      },
      "source": [
        "days_back = 21\n",
        "target = 0.7\n",
        "repros= OK_Cov[OK_Cov['source']=='actual'].repro_number-target\n",
        "repros.pct_change().tail(days_back).mean()"
      ],
      "execution_count": 32,
      "outputs": [
        {
          "output_type": "execute_result",
          "data": {
            "text/plain": [
              "-2.444750119705189"
            ]
          },
          "metadata": {
            "tags": []
          },
          "execution_count": 32
        }
      ]
    },
    {
      "cell_type": "code",
      "metadata": {
        "id": "dpDHVLL61nOW",
        "colab_type": "code",
        "outputId": "d836bf50-fd40-46ea-ef42-282045723ac2",
        "colab": {
          "base_uri": "https://localhost:8080/",
          "height": 248
        }
      },
      "source": [
        "OK_Cov = forecast(OK_Cov, 50, repro_move=(0.7, 0.3))\n",
        "OK_Cov.tail(7)"
      ],
      "execution_count": 33,
      "outputs": [
        {
          "output_type": "execute_result",
          "data": {
            "text/html": [
              "<div>\n",
              "<style scoped>\n",
              "    .dataframe tbody tr th:only-of-type {\n",
              "        vertical-align: middle;\n",
              "    }\n",
              "\n",
              "    .dataframe tbody tr th {\n",
              "        vertical-align: top;\n",
              "    }\n",
              "\n",
              "    .dataframe thead th {\n",
              "        text-align: right;\n",
              "    }\n",
              "</style>\n",
              "<table border=\"1\" class=\"dataframe\">\n",
              "  <thead>\n",
              "    <tr style=\"text-align: right;\">\n",
              "      <th></th>\n",
              "      <th>day</th>\n",
              "      <th>new_cases</th>\n",
              "      <th>total_cases</th>\n",
              "      <th>cases_pct_of_pop</th>\n",
              "      <th>new_deaths</th>\n",
              "      <th>total_deaths</th>\n",
              "      <th>fatality</th>\n",
              "      <th>contagious</th>\n",
              "      <th>repro_number</th>\n",
              "      <th>growth</th>\n",
              "      <th>days_to_dbl</th>\n",
              "      <th>source</th>\n",
              "      <th>population</th>\n",
              "      <th>region</th>\n",
              "    </tr>\n",
              "  </thead>\n",
              "  <tbody>\n",
              "    <tr>\n",
              "      <th>2020-05-29</th>\n",
              "      <td>Fri</td>\n",
              "      <td>8.803059</td>\n",
              "      <td>3687.896987</td>\n",
              "      <td>0.093200</td>\n",
              "      <td>0.478469</td>\n",
              "      <td>200.446898</td>\n",
              "      <td>0.054353</td>\n",
              "      <td>158.584495</td>\n",
              "      <td>0.70004</td>\n",
              "      <td>0.002390</td>\n",
              "      <td>290.035930</td>\n",
              "      <td>forecast</td>\n",
              "      <td>3956971</td>\n",
              "      <td>NA</td>\n",
              "    </tr>\n",
              "    <tr>\n",
              "      <th>2020-05-30</th>\n",
              "      <td>Sat</td>\n",
              "      <td>8.362059</td>\n",
              "      <td>3696.259046</td>\n",
              "      <td>0.093411</td>\n",
              "      <td>0.454500</td>\n",
              "      <td>200.901398</td>\n",
              "      <td>0.054353</td>\n",
              "      <td>150.637847</td>\n",
              "      <td>0.70004</td>\n",
              "      <td>0.002265</td>\n",
              "      <td>306.043311</td>\n",
              "      <td>forecast</td>\n",
              "      <td>3956971</td>\n",
              "      <td>NA</td>\n",
              "    </tr>\n",
              "    <tr>\n",
              "      <th>2020-05-31</th>\n",
              "      <td>Sun</td>\n",
              "      <td>7.943027</td>\n",
              "      <td>3704.202073</td>\n",
              "      <td>0.093612</td>\n",
              "      <td>0.431724</td>\n",
              "      <td>201.333122</td>\n",
              "      <td>0.054353</td>\n",
              "      <td>143.089749</td>\n",
              "      <td>0.70004</td>\n",
              "      <td>0.002147</td>\n",
              "      <td>322.899996</td>\n",
              "      <td>forecast</td>\n",
              "      <td>3956971</td>\n",
              "      <td>NA</td>\n",
              "    </tr>\n",
              "    <tr>\n",
              "      <th>2020-06-01</th>\n",
              "      <td>Mon</td>\n",
              "      <td>7.545005</td>\n",
              "      <td>3711.747078</td>\n",
              "      <td>0.093803</td>\n",
              "      <td>0.410091</td>\n",
              "      <td>201.743213</td>\n",
              "      <td>0.054353</td>\n",
              "      <td>135.924543</td>\n",
              "      <td>0.70004</td>\n",
              "      <td>0.002035</td>\n",
              "      <td>340.645421</td>\n",
              "      <td>forecast</td>\n",
              "      <td>3956971</td>\n",
              "      <td>NA</td>\n",
              "    </tr>\n",
              "    <tr>\n",
              "      <th>2020-06-02</th>\n",
              "      <td>Tue</td>\n",
              "      <td>7.167162</td>\n",
              "      <td>3718.914239</td>\n",
              "      <td>0.093984</td>\n",
              "      <td>0.389554</td>\n",
              "      <td>202.132767</td>\n",
              "      <td>0.054353</td>\n",
              "      <td>129.120081</td>\n",
              "      <td>0.70004</td>\n",
              "      <td>0.001929</td>\n",
              "      <td>359.315208</td>\n",
              "      <td>forecast</td>\n",
              "      <td>3956971</td>\n",
              "      <td>NA</td>\n",
              "    </tr>\n",
              "    <tr>\n",
              "      <th>2020-06-03</th>\n",
              "      <td>Wed</td>\n",
              "      <td>6.808350</td>\n",
              "      <td>3725.722590</td>\n",
              "      <td>0.094156</td>\n",
              "      <td>0.370052</td>\n",
              "      <td>202.502819</td>\n",
              "      <td>0.054353</td>\n",
              "      <td>122.658867</td>\n",
              "      <td>0.70004</td>\n",
              "      <td>0.001829</td>\n",
              "      <td>378.963141</td>\n",
              "      <td>forecast</td>\n",
              "      <td>3956971</td>\n",
              "      <td>NA</td>\n",
              "    </tr>\n",
              "    <tr>\n",
              "      <th>2020-06-04</th>\n",
              "      <td>Thu</td>\n",
              "      <td>6.467639</td>\n",
              "      <td>3732.190228</td>\n",
              "      <td>0.094319</td>\n",
              "      <td>0.351533</td>\n",
              "      <td>202.854352</td>\n",
              "      <td>0.054353</td>\n",
              "      <td>116.525180</td>\n",
              "      <td>0.70004</td>\n",
              "      <td>0.001734</td>\n",
              "      <td>399.638123</td>\n",
              "      <td>forecast</td>\n",
              "      <td>3956971</td>\n",
              "      <td>NA</td>\n",
              "    </tr>\n",
              "  </tbody>\n",
              "</table>\n",
              "</div>"
            ],
            "text/plain": [
              "            day  new_cases  total_cases  ...    source  population  region\n",
              "2020-05-29  Fri   8.803059  3687.896987  ...  forecast     3956971      NA\n",
              "2020-05-30  Sat   8.362059  3696.259046  ...  forecast     3956971      NA\n",
              "2020-05-31  Sun   7.943027  3704.202073  ...  forecast     3956971      NA\n",
              "2020-06-01  Mon   7.545005  3711.747078  ...  forecast     3956971      NA\n",
              "2020-06-02  Tue   7.167162  3718.914239  ...  forecast     3956971      NA\n",
              "2020-06-03  Wed   6.808350  3725.722590  ...  forecast     3956971      NA\n",
              "2020-06-04  Thu   6.467639  3732.190228  ...  forecast     3956971      NA\n",
              "\n",
              "[7 rows x 14 columns]"
            ]
          },
          "metadata": {
            "tags": []
          },
          "execution_count": 33
        }
      ]
    },
    {
      "cell_type": "code",
      "metadata": {
        "id": "-Ei_OS9T1MqU",
        "colab_type": "code",
        "outputId": "be94c488-57aa-4fe7-8095-561b48ae9d69",
        "colab": {
          "base_uri": "https://localhost:8080/",
          "height": 283
        }
      },
      "source": [
        "plot_cdr(OK_Cov, 'Covid in Oklahoma')"
      ],
      "execution_count": 34,
      "outputs": [
        {
          "output_type": "display_data",
          "data": {
            "image/png": "[encoded data removed]",
            "text/plain": [
              "<Figure size 432x288 with 2 Axes>"
            ]
          },
          "metadata": {
            "tags": [],
            "needs_background": "light"
          }
        }
      ]
    },
    {
      "cell_type": "code",
      "metadata": {
        "id": "fKVwE853R4Sz",
        "colab_type": "code",
        "outputId": "a1a33bcd-6593-4b4d-b7a9-80283a552231",
        "colab": {
          "base_uri": "https://localhost:8080/",
          "height": 301
        }
      },
      "source": [
        "plot_growth(df_states, \n",
        "            ['Kansas', 'Arkansas','Oklahoma','Texas','Colorado'],\n",
        "            title='Oklahoma and its Neighbors', logy=True, \n",
        "            min_count=100, column='total_cases')"
      ],
      "execution_count": 35,
      "outputs": [
        {
          "output_type": "display_data",
          "data": {
            "image/png": "[encoded data removed]",
            "text/plain": [
              "<Figure size 432x288 with 1 Axes>"
            ]
          },
          "metadata": {
            "tags": [],
            "needs_background": "light"
          }
        }
      ]
    },
    {
      "cell_type": "markdown",
      "metadata": {
        "id": "vxv7cQOISsJF",
        "colab_type": "text"
      },
      "source": [
        "### New York"
      ]
    },
    {
      "cell_type": "code",
      "metadata": {
        "id": "5yyHHSDpqzNw",
        "colab_type": "code",
        "outputId": "29f6df1e-1b78-4f5c-8d73-dab1ac6fd186",
        "colab": {
          "base_uri": "https://localhost:8080/",
          "height": 248
        }
      },
      "source": [
        "NY_Cov = df_states[df_states['total_cases']>10].loc['Oklahoma']\n",
        "NY_Cov[NY_Cov['source']=='actual'].tail(7)"
      ],
      "execution_count": 36,
      "outputs": [
        {
          "output_type": "execute_result",
          "data": {
            "text/html": [
              "<div>\n",
              "<style scoped>\n",
              "    .dataframe tbody tr th:only-of-type {\n",
              "        vertical-align: middle;\n",
              "    }\n",
              "\n",
              "    .dataframe tbody tr th {\n",
              "        vertical-align: top;\n",
              "    }\n",
              "\n",
              "    .dataframe thead th {\n",
              "        text-align: right;\n",
              "    }\n",
              "</style>\n",
              "<table border=\"1\" class=\"dataframe\">\n",
              "  <thead>\n",
              "    <tr style=\"text-align: right;\">\n",
              "      <th></th>\n",
              "      <th>day</th>\n",
              "      <th>new_cases</th>\n",
              "      <th>total_cases</th>\n",
              "      <th>cases_pct_of_pop</th>\n",
              "      <th>new_deaths</th>\n",
              "      <th>total_deaths</th>\n",
              "      <th>fatality</th>\n",
              "      <th>contagious</th>\n",
              "      <th>repro_number</th>\n",
              "      <th>growth</th>\n",
              "      <th>days_to_dbl</th>\n",
              "      <th>source</th>\n",
              "      <th>population</th>\n",
              "      <th>region</th>\n",
              "    </tr>\n",
              "  </thead>\n",
              "  <tbody>\n",
              "    <tr>\n",
              "      <th>2020-04-09</th>\n",
              "      <td>Thu</td>\n",
              "      <td>160.0</td>\n",
              "      <td>1684</td>\n",
              "      <td>0.042558</td>\n",
              "      <td>1.0</td>\n",
              "      <td>80</td>\n",
              "      <td>0.047506</td>\n",
              "      <td>1436.0</td>\n",
              "      <td>1.559889</td>\n",
              "      <td>0.099833</td>\n",
              "      <td>6.943035</td>\n",
              "      <td>actual</td>\n",
              "      <td>3956971</td>\n",
              "      <td>NA</td>\n",
              "    </tr>\n",
              "    <tr>\n",
              "      <th>2020-04-10</th>\n",
              "      <td>Fri</td>\n",
              "      <td>110.0</td>\n",
              "      <td>1794</td>\n",
              "      <td>0.045338</td>\n",
              "      <td>8.0</td>\n",
              "      <td>88</td>\n",
              "      <td>0.049052</td>\n",
              "      <td>1472.0</td>\n",
              "      <td>1.046196</td>\n",
              "      <td>0.063276</td>\n",
              "      <td>10.954372</td>\n",
              "      <td>actual</td>\n",
              "      <td>3956971</td>\n",
              "      <td>NA</td>\n",
              "    </tr>\n",
              "    <tr>\n",
              "      <th>2020-04-11</th>\n",
              "      <td>Sat</td>\n",
              "      <td>74.0</td>\n",
              "      <td>1868</td>\n",
              "      <td>0.047208</td>\n",
              "      <td>5.0</td>\n",
              "      <td>93</td>\n",
              "      <td>0.049786</td>\n",
              "      <td>1491.0</td>\n",
              "      <td>0.694836</td>\n",
              "      <td>0.040421</td>\n",
              "      <td>17.148375</td>\n",
              "      <td>actual</td>\n",
              "      <td>3956971</td>\n",
              "      <td>NA</td>\n",
              "    </tr>\n",
              "    <tr>\n",
              "      <th>2020-04-12</th>\n",
              "      <td>Sun</td>\n",
              "      <td>102.0</td>\n",
              "      <td>1970</td>\n",
              "      <td>0.049786</td>\n",
              "      <td>3.0</td>\n",
              "      <td>96</td>\n",
              "      <td>0.048731</td>\n",
              "      <td>1541.0</td>\n",
              "      <td>0.926671</td>\n",
              "      <td>0.053165</td>\n",
              "      <td>13.037610</td>\n",
              "      <td>actual</td>\n",
              "      <td>3956971</td>\n",
              "      <td>NA</td>\n",
              "    </tr>\n",
              "    <tr>\n",
              "      <th>2020-04-13</th>\n",
              "      <td>Mon</td>\n",
              "      <td>99.0</td>\n",
              "      <td>2069</td>\n",
              "      <td>0.052287</td>\n",
              "      <td>2.0</td>\n",
              "      <td>98</td>\n",
              "      <td>0.047366</td>\n",
              "      <td>1588.0</td>\n",
              "      <td>0.872796</td>\n",
              "      <td>0.049032</td>\n",
              "      <td>14.136670</td>\n",
              "      <td>actual</td>\n",
              "      <td>3956971</td>\n",
              "      <td>NA</td>\n",
              "    </tr>\n",
              "    <tr>\n",
              "      <th>2020-04-14</th>\n",
              "      <td>Tue</td>\n",
              "      <td>115.0</td>\n",
              "      <td>2184</td>\n",
              "      <td>0.055194</td>\n",
              "      <td>11.0</td>\n",
              "      <td>109</td>\n",
              "      <td>0.049908</td>\n",
              "      <td>1618.0</td>\n",
              "      <td>0.995056</td>\n",
              "      <td>0.054093</td>\n",
              "      <td>12.814071</td>\n",
              "      <td>actual</td>\n",
              "      <td>3956971</td>\n",
              "      <td>NA</td>\n",
              "    </tr>\n",
              "    <tr>\n",
              "      <th>2020-04-15</th>\n",
              "      <td>Wed</td>\n",
              "      <td>79.0</td>\n",
              "      <td>2263</td>\n",
              "      <td>0.057190</td>\n",
              "      <td>14.0</td>\n",
              "      <td>123</td>\n",
              "      <td>0.054353</td>\n",
              "      <td>1544.0</td>\n",
              "      <td>0.716321</td>\n",
              "      <td>0.035533</td>\n",
              "      <td>19.506970</td>\n",
              "      <td>actual</td>\n",
              "      <td>3956971</td>\n",
              "      <td>NA</td>\n",
              "    </tr>\n",
              "  </tbody>\n",
              "</table>\n",
              "</div>"
            ],
            "text/plain": [
              "            day  new_cases  total_cases  ...  source  population  region\n",
              "2020-04-09  Thu      160.0         1684  ...  actual     3956971      NA\n",
              "2020-04-10  Fri      110.0         1794  ...  actual     3956971      NA\n",
              "2020-04-11  Sat       74.0         1868  ...  actual     3956971      NA\n",
              "2020-04-12  Sun      102.0         1970  ...  actual     3956971      NA\n",
              "2020-04-13  Mon       99.0         2069  ...  actual     3956971      NA\n",
              "2020-04-14  Tue      115.0         2184  ...  actual     3956971      NA\n",
              "2020-04-15  Wed       79.0         2263  ...  actual     3956971      NA\n",
              "\n",
              "[7 rows x 14 columns]"
            ]
          },
          "metadata": {
            "tags": []
          },
          "execution_count": 36
        }
      ]
    },
    {
      "cell_type": "code",
      "metadata": {
        "id": "1s96Enm-R0cf",
        "colab_type": "code",
        "outputId": "697e6ec5-2f08-4604-b767-ed1eab994717",
        "colab": {
          "base_uri": "https://localhost:8080/",
          "height": 33
        }
      },
      "source": [
        "days_back = 21\n",
        "target = 0.7\n",
        "repros= NY_Cov[NY_Cov['source']=='actual'].repro_number-target\n",
        "repros.pct_change().tail(days_back).mean()"
      ],
      "execution_count": 37,
      "outputs": [
        {
          "output_type": "execute_result",
          "data": {
            "text/plain": [
              "-2.444750119705189"
            ]
          },
          "metadata": {
            "tags": []
          },
          "execution_count": 37
        }
      ]
    },
    {
      "cell_type": "code",
      "metadata": {
        "id": "Z8_leccxs-pX",
        "colab_type": "code",
        "outputId": "4e259474-f99c-4da1-a4f0-aff3f2118b98",
        "colab": {
          "base_uri": "https://localhost:8080/",
          "height": 283
        }
      },
      "source": [
        "NY_Cov = forecast(NY_Cov, 100, repro_move=(0.7,0.3))\n",
        "plot_cdr(NY_Cov, 'Covid in New York')"
      ],
      "execution_count": 38,
      "outputs": [
        {
          "output_type": "display_data",
          "data": {
            "image/png": "[encoded data removed]",
            "text/plain": [
              "<Figure size 432x288 with 2 Axes>"
            ]
          },
          "metadata": {
            "tags": [],
            "needs_background": "light"
          }
        }
      ]
    },
    {
      "cell_type": "markdown",
      "metadata": {
        "id": "_ncn2jGE2r7T",
        "colab_type": "text"
      },
      "source": [
        "## Comparing Reproduction Numbers"
      ]
    },
    {
      "cell_type": "code",
      "metadata": {
        "id": "mPEoP5eY2xHW",
        "colab_type": "code",
        "outputId": "845bcda1-458b-4577-9eab-cb01205691b7",
        "colab": {
          "base_uri": "https://localhost:8080/",
          "height": 283
        }
      },
      "source": [
        "US_ = US_Cov[US_Cov['source']=='actual'].copy()\n",
        "US_.reset_index(inplace=True)\n",
        "days = len(US_)\n",
        "\n",
        "China_ = China_Cov[China_Cov['source']=='actual'][:days].copy()\n",
        "China_.reset_index(inplace=True)\n",
        "\n",
        "sns.regplot(x=US_.index, y='repro_number', data=US_, fit_reg=True, order=4) \n",
        "sns.regplot(x=China_.index, y='repro_number', data=China_, fit_reg=True, order=4) "
      ],
      "execution_count": 39,
      "outputs": [
        {
          "output_type": "execute_result",
          "data": {
            "text/plain": [
              "<matplotlib.axes._subplots.AxesSubplot at 0x7fcae8be6f28>"
            ]
          },
          "metadata": {
            "tags": []
          },
          "execution_count": 39
        },
        {
          "output_type": "display_data",
          "data": {
            "image/png": "[encoded data removed]",
            "text/plain": [
              "<Figure size 432x288 with 1 Axes>"
            ]
          },
          "metadata": {
            "tags": [],
            "needs_background": "light"
          }
        }
      ]
    },
    {
      "cell_type": "code",
      "metadata": {
        "id": "jVs-rgVJ569T",
        "colab_type": "code",
        "outputId": "a4812409-5116-4c8b-aa7d-6300158ff579",
        "colab": {
          "base_uri": "https://localhost:8080/",
          "height": 491
        }
      },
      "source": [
        "\n",
        "y = US_.repro_number\n",
        "x = y.index\n",
        "np.polyfit(np.log(x), y, 1)\n",
        "#np.polyfit(x, y, 1)\n",
        "#array([ 8.46295607,  6.61867463])\n",
        "# y ≈ 8.46 log(x) + 6.62"
      ],
      "execution_count": 40,
      "outputs": [
        {
          "output_type": "stream",
          "text": [
            "/usr/local/lib/python3.6/dist-packages/ipykernel_launcher.py:4: RuntimeWarning: divide by zero encountered in log\n",
            "  after removing the cwd from sys.path.\n",
            "/usr/local/lib/python3.6/dist-packages/numpy/lib/polynomial.py:630: RuntimeWarning: invalid value encountered in true_divide\n",
            "  lhs /= scale\n"
          ],
          "name": "stderr"
        },
        {
          "output_type": "error",
          "ename": "ValueError",
          "evalue": "ignored",
          "traceback": [
            "\u001b[0;31m---------------------------------------------------------------------------\u001b[0m",
            "\u001b[0;31mValueError\u001b[0m                                Traceback (most recent call last)",
            "\u001b[0;32m<ipython-input-40-cf7936853356>\u001b[0m in \u001b[0;36m<module>\u001b[0;34m()\u001b[0m\n\u001b[1;32m      2\u001b[0m \u001b[0my\u001b[0m \u001b[0;34m=\u001b[0m \u001b[0mUS_\u001b[0m\u001b[0;34m.\u001b[0m\u001b[0mrepro_number\u001b[0m\u001b[0;34m\u001b[0m\u001b[0;34m\u001b[0m\u001b[0m\n\u001b[1;32m      3\u001b[0m \u001b[0mx\u001b[0m \u001b[0;34m=\u001b[0m \u001b[0my\u001b[0m\u001b[0;34m.\u001b[0m\u001b[0mindex\u001b[0m\u001b[0;34m\u001b[0m\u001b[0;34m\u001b[0m\u001b[0m\n\u001b[0;32m----> 4\u001b[0;31m \u001b[0mnp\u001b[0m\u001b[0;34m.\u001b[0m\u001b[0mpolyfit\u001b[0m\u001b[0;34m(\u001b[0m\u001b[0mnp\u001b[0m\u001b[0;34m.\u001b[0m\u001b[0mlog\u001b[0m\u001b[0;34m(\u001b[0m\u001b[0mx\u001b[0m\u001b[0;34m)\u001b[0m\u001b[0;34m,\u001b[0m \u001b[0my\u001b[0m\u001b[0;34m,\u001b[0m \u001b[0;36m1\u001b[0m\u001b[0;34m)\u001b[0m\u001b[0;34m\u001b[0m\u001b[0;34m\u001b[0m\u001b[0m\n\u001b[0m\u001b[1;32m      5\u001b[0m \u001b[0;31m#np.polyfit(x, y, 1)\u001b[0m\u001b[0;34m\u001b[0m\u001b[0;34m\u001b[0m\u001b[0;34m\u001b[0m\u001b[0m\n\u001b[1;32m      6\u001b[0m \u001b[0;31m#array([ 8.46295607,  6.61867463])\u001b[0m\u001b[0;34m\u001b[0m\u001b[0;34m\u001b[0m\u001b[0;34m\u001b[0m\u001b[0m\n",
            "\u001b[0;32m<__array_function__ internals>\u001b[0m in \u001b[0;36mpolyfit\u001b[0;34m(*args, **kwargs)\u001b[0m\n",
            "\u001b[0;32m/usr/local/lib/python3.6/dist-packages/numpy/lib/polynomial.py\u001b[0m in \u001b[0;36mpolyfit\u001b[0;34m(x, y, deg, rcond, full, w, cov)\u001b[0m\n\u001b[1;32m    629\u001b[0m     \u001b[0mscale\u001b[0m \u001b[0;34m=\u001b[0m \u001b[0mNX\u001b[0m\u001b[0;34m.\u001b[0m\u001b[0msqrt\u001b[0m\u001b[0;34m(\u001b[0m\u001b[0;34m(\u001b[0m\u001b[0mlhs\u001b[0m\u001b[0;34m*\u001b[0m\u001b[0mlhs\u001b[0m\u001b[0;34m)\u001b[0m\u001b[0;34m.\u001b[0m\u001b[0msum\u001b[0m\u001b[0;34m(\u001b[0m\u001b[0maxis\u001b[0m\u001b[0;34m=\u001b[0m\u001b[0;36m0\u001b[0m\u001b[0;34m)\u001b[0m\u001b[0;34m)\u001b[0m\u001b[0;34m\u001b[0m\u001b[0;34m\u001b[0m\u001b[0m\n\u001b[1;32m    630\u001b[0m     \u001b[0mlhs\u001b[0m \u001b[0;34m/=\u001b[0m \u001b[0mscale\u001b[0m\u001b[0;34m\u001b[0m\u001b[0;34m\u001b[0m\u001b[0m\n\u001b[0;32m--> 631\u001b[0;31m     \u001b[0mc\u001b[0m\u001b[0;34m,\u001b[0m \u001b[0mresids\u001b[0m\u001b[0;34m,\u001b[0m \u001b[0mrank\u001b[0m\u001b[0;34m,\u001b[0m \u001b[0ms\u001b[0m \u001b[0;34m=\u001b[0m \u001b[0mlstsq\u001b[0m\u001b[0;34m(\u001b[0m\u001b[0mlhs\u001b[0m\u001b[0;34m,\u001b[0m \u001b[0mrhs\u001b[0m\u001b[0;34m,\u001b[0m \u001b[0mrcond\u001b[0m\u001b[0;34m)\u001b[0m\u001b[0;34m\u001b[0m\u001b[0;34m\u001b[0m\u001b[0m\n\u001b[0m\u001b[1;32m    632\u001b[0m     \u001b[0mc\u001b[0m \u001b[0;34m=\u001b[0m \u001b[0;34m(\u001b[0m\u001b[0mc\u001b[0m\u001b[0;34m.\u001b[0m\u001b[0mT\u001b[0m\u001b[0;34m/\u001b[0m\u001b[0mscale\u001b[0m\u001b[0;34m)\u001b[0m\u001b[0;34m.\u001b[0m\u001b[0mT\u001b[0m  \u001b[0;31m# broadcast scale coefficients\u001b[0m\u001b[0;34m\u001b[0m\u001b[0;34m\u001b[0m\u001b[0m\n\u001b[1;32m    633\u001b[0m \u001b[0;34m\u001b[0m\u001b[0m\n",
            "\u001b[0;32m<__array_function__ internals>\u001b[0m in \u001b[0;36mlstsq\u001b[0;34m(*args, **kwargs)\u001b[0m\n",
            "\u001b[0;32m/usr/local/lib/python3.6/dist-packages/numpy/linalg/linalg.py\u001b[0m in \u001b[0;36mlstsq\u001b[0;34m(a, b, rcond)\u001b[0m\n\u001b[1;32m   2257\u001b[0m         \u001b[0;31m# lapack can't handle n_rhs = 0 - so allocate the array one larger in that axis\u001b[0m\u001b[0;34m\u001b[0m\u001b[0;34m\u001b[0m\u001b[0;34m\u001b[0m\u001b[0m\n\u001b[1;32m   2258\u001b[0m         \u001b[0mb\u001b[0m \u001b[0;34m=\u001b[0m \u001b[0mzeros\u001b[0m\u001b[0;34m(\u001b[0m\u001b[0mb\u001b[0m\u001b[0;34m.\u001b[0m\u001b[0mshape\u001b[0m\u001b[0;34m[\u001b[0m\u001b[0;34m:\u001b[0m\u001b[0;34m-\u001b[0m\u001b[0;36m2\u001b[0m\u001b[0;34m]\u001b[0m \u001b[0;34m+\u001b[0m \u001b[0;34m(\u001b[0m\u001b[0mm\u001b[0m\u001b[0;34m,\u001b[0m \u001b[0mn_rhs\u001b[0m \u001b[0;34m+\u001b[0m \u001b[0;36m1\u001b[0m\u001b[0;34m)\u001b[0m\u001b[0;34m,\u001b[0m \u001b[0mdtype\u001b[0m\u001b[0;34m=\u001b[0m\u001b[0mb\u001b[0m\u001b[0;34m.\u001b[0m\u001b[0mdtype\u001b[0m\u001b[0;34m)\u001b[0m\u001b[0;34m\u001b[0m\u001b[0;34m\u001b[0m\u001b[0m\n\u001b[0;32m-> 2259\u001b[0;31m     \u001b[0mx\u001b[0m\u001b[0;34m,\u001b[0m \u001b[0mresids\u001b[0m\u001b[0;34m,\u001b[0m \u001b[0mrank\u001b[0m\u001b[0;34m,\u001b[0m \u001b[0ms\u001b[0m \u001b[0;34m=\u001b[0m \u001b[0mgufunc\u001b[0m\u001b[0;34m(\u001b[0m\u001b[0ma\u001b[0m\u001b[0;34m,\u001b[0m \u001b[0mb\u001b[0m\u001b[0;34m,\u001b[0m \u001b[0mrcond\u001b[0m\u001b[0;34m,\u001b[0m \u001b[0msignature\u001b[0m\u001b[0;34m=\u001b[0m\u001b[0msignature\u001b[0m\u001b[0;34m,\u001b[0m \u001b[0mextobj\u001b[0m\u001b[0;34m=\u001b[0m\u001b[0mextobj\u001b[0m\u001b[0;34m)\u001b[0m\u001b[0;34m\u001b[0m\u001b[0;34m\u001b[0m\u001b[0m\n\u001b[0m\u001b[1;32m   2260\u001b[0m     \u001b[0;32mif\u001b[0m \u001b[0mm\u001b[0m \u001b[0;34m==\u001b[0m \u001b[0;36m0\u001b[0m\u001b[0;34m:\u001b[0m\u001b[0;34m\u001b[0m\u001b[0;34m\u001b[0m\u001b[0m\n\u001b[1;32m   2261\u001b[0m         \u001b[0mx\u001b[0m\u001b[0;34m[\u001b[0m\u001b[0;34m...\u001b[0m\u001b[0;34m]\u001b[0m \u001b[0;34m=\u001b[0m \u001b[0;36m0\u001b[0m\u001b[0;34m\u001b[0m\u001b[0;34m\u001b[0m\u001b[0m\n",
            "\u001b[0;31mValueError\u001b[0m: On entry to DLASCL parameter number 4 had an illegal value"
          ]
        }
      ]
    },
    {
      "cell_type": "code",
      "metadata": {
        "id": "NWuq35fb5-YF",
        "colab_type": "code",
        "colab": {}
      },
      "source": [
        "US_.repro_number.plot()"
      ],
      "execution_count": 0,
      "outputs": []
    },
    {
      "cell_type": "code",
      "metadata": {
        "id": "AzVMrsJ2Bzi6",
        "colab_type": "code",
        "colab": {}
      },
      "source": [
        "from statsmodels.tsa.arima_model import ARIMA\n",
        "from random import random\n",
        "# contrived dataset\n",
        "data = [x + random() for x in range(1, 100)]\n",
        "# fit model\n",
        "model = ARIMA(data, order=(1, 1, 1))\n",
        "model_fit = model.fit(disp=False)\n",
        "# make prediction\n",
        "yhat = model_fit.predict(len(data), len(data), typ='levels')\n",
        "print(yhat)"
      ],
      "execution_count": 0,
      "outputs": []
    },
    {
      "cell_type": "code",
      "metadata": {
        "id": "w2uzVXwz6ArE",
        "colab_type": "code",
        "colab": {}
      },
      "source": [
        "#https://machinelearningmastery.com/time-series-forecasting-methods-in-python-cheat-sheet/\n",
        "#https://machinelearningmastery.com/arima-for-time-series-forecasting-with-python/\n",
        "data = np.log(US_.repro_number)\n",
        "# fit model\n",
        "model = ARIMA(data, order=(7, 1, 3))\n",
        "model_fit = model.fit(disp=False)\n",
        "# make prediction\n",
        "yhat = model_fit.predict(len(data), len(data)+100, typ='levels')\n",
        "#(data.append(yhat)).plot()\n",
        "sns.lineplot(data=np.exp(data))\n",
        "sns.lineplot(data=np.exp(yhat))"
      ],
      "execution_count": 0,
      "outputs": []
    },
    {
      "cell_type": "code",
      "metadata": {
        "id": "87JKN54aD2Tj",
        "colab_type": "code",
        "colab": {}
      },
      "source": [
        "print(model_fit.summary())"
      ],
      "execution_count": 0,
      "outputs": []
    },
    {
      "cell_type": "code",
      "metadata": {
        "id": "JZqPg-J5JsQb",
        "colab_type": "code",
        "colab": {}
      },
      "source": [
        "residuals = pd.DataFrame(model_fit.resid)\n",
        "residuals.plot()"
      ],
      "execution_count": 0,
      "outputs": []
    },
    {
      "cell_type": "code",
      "metadata": {
        "id": "Jp5PZtjpJ6xl",
        "colab_type": "code",
        "colab": {}
      },
      "source": [
        "residuals.plot(kind='kde')"
      ],
      "execution_count": 0,
      "outputs": []
    },
    {
      "cell_type": "code",
      "metadata": {
        "id": "mweTfsS_GXCH",
        "colab_type": "code",
        "colab": {}
      },
      "source": [
        "\n",
        "data = np.log(Italy_Cov[Italy_Cov.source=='actual'].repro_number)\n",
        "# fit model\n",
        "model = ARIMA(data, order=(7, 1, 0))\n",
        "model_fit = model.fit(disp=False)\n",
        "# make prediction\n",
        "yhat = model_fit.predict(len(data), len(data)+100, typ='levels')\n",
        "#(data.append(yhat)).plot()\n",
        "sns.lineplot(data=np.exp(data))\n",
        "sns.lineplot(data=np.exp(yhat))"
      ],
      "execution_count": 0,
      "outputs": []
    },
    {
      "cell_type": "code",
      "metadata": {
        "id": "jrKgDs4EHZ8C",
        "colab_type": "code",
        "colab": {}
      },
      "source": [
        ""
      ],
      "execution_count": 0,
      "outputs": []
    }
  ]
}